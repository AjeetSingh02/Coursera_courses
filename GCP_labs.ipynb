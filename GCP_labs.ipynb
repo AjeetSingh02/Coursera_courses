{
  "nbformat": 4,
  "nbformat_minor": 0,
  "metadata": {
    "colab": {
      "name": "GCP_labs.ipynb",
      "provenance": [],
      "collapsed_sections": [
        "ZXv3oNVmlctr",
        "hvUfpeCJ2hov",
        "LvdaHWEYEGpY",
        "-l6WYElhjaGn",
        "SfLmy25Ijhcu",
        "Tp6mMTeRjruD",
        "WVhwT3LFjsCJ"
      ],
      "authorship_tag": "ABX9TyPQWcsO64eSj7cEdXwgE4ko",
      "include_colab_link": true
    },
    "kernelspec": {
      "name": "python3",
      "display_name": "Python 3"
    }
  },
  "cells": [
    {
      "cell_type": "markdown",
      "metadata": {
        "id": "view-in-github",
        "colab_type": "text"
      },
      "source": [
        "<a href=\"https://colab.research.google.com/github/AjeetSingh02/Courses/blob/master/GCP_labs.ipynb\" target=\"_parent\"><img src=\"https://colab.research.google.com/assets/colab-badge.svg\" alt=\"Open In Colab\"/></a>"
      ]
    },
    {
      "cell_type": "markdown",
      "metadata": {
        "id": "ZXv3oNVmlctr",
        "colab_type": "text"
      },
      "source": [
        "# GCP Fundamentals: Getting Started with Cloud Marketplace"
      ]
    },
    {
      "cell_type": "markdown",
      "metadata": {
        "id": "cbZXgJPQlee9",
        "colab_type": "text"
      },
      "source": [
        "<h2 id=\"step1\">Overview</h2>"
      ]
    },
    {
      "cell_type": "markdown",
      "metadata": {
        "id": "eTpQn9trli9S",
        "colab_type": "text"
      },
      "source": [
        "<p>In this lab, you use Cloud Marketplace to quickly and easily deploy a LAMP stack on a Compute Engine instance. The Bitnami LAMP Stack provides a complete web development environment for Linux that can be launched in one click.</p>"
      ]
    },
    {
      "cell_type": "markdown",
      "metadata": {
        "id": "N_GK1hjOln-r",
        "colab_type": "text"
      },
      "source": [
        "<table>\n",
        "\n",
        "<tbody><tr>\n",
        "<th>Component</th>\n",
        "<th>Role</th>\n",
        "</tr>\n",
        "\n",
        "\n",
        "<tr>\n",
        "<td>Linux</td>\n",
        "<td>Operating system</td>\n",
        "</tr>\n",
        "<tr>\n",
        "<td>Apache HTTP Server</td>\n",
        "<td>Web server</td>\n",
        "</tr>\n",
        "<tr>\n",
        "<td>MySQL</td>\n",
        "<td>Relational database</td>\n",
        "</tr>\n",
        "<tr>\n",
        "<td>PHP</td>\n",
        "<td>Web application framework</td>\n",
        "</tr>\n",
        "<tr>\n",
        "<td>phpMyAdmin</td>\n",
        "<td>PHP administration tool</td>\n",
        "</tr>\n",
        "\n",
        "</tbody></table>"
      ]
    },
    {
      "cell_type": "markdown",
      "metadata": {
        "id": "CcBurUoWloIr",
        "colab_type": "text"
      },
      "source": [
        "<p>For more information on the Bitnami LAMP stack, see\n",
        "<a href=\"https://docs.bitnami.com/google/infrastructure/lamp/\">https://docs.bitnami.com/google/infrastructure/lamp/</a></p>"
      ]
    },
    {
      "cell_type": "markdown",
      "metadata": {
        "id": "n7oshSr-loPt",
        "colab_type": "text"
      },
      "source": [
        "<h2 id=\"step2\">Objectives</h2>\n",
        "<p>In this lab, you learn how to perform the following task:</p>\n",
        "<ul>\n",
        "<li>\n",
        "<p>Launch a solution using Cloud Marketplace.</p>\n",
        "</li>\n",
        "</ul>"
      ]
    },
    {
      "cell_type": "markdown",
      "metadata": {
        "id": "buziLLZTloVb",
        "colab_type": "text"
      },
      "source": [
        "<h2 id=\"step3\">Task 1: Sign in to the Google Cloud Platform (GCP) Console</h2>\n",
        "<h4>Before you click the Start Lab button</h4>\n",
        "<p>Read these instructions. Labs are timed and you cannot pause them. The timer, which starts when you click Start Lab, shows how long Cloud resources will be made available to you.</p>\n",
        "<p>This Qwiklabs hands-on lab lets you do the lab activities yourself in a real cloud environment, not in a simulation or demo environment. It does so by giving you new, temporary credentials that you use to sign in and access the Google Cloud Platform for the duration of the lab.</p>\n",
        "<h4>What you need</h4>\n",
        "<p>To complete this lab, you need:</p>\n",
        "<ul>\n",
        "<li>Access to a standard internet browser (Chrome browser recommended).</li>\n",
        "<li>Time to complete the lab.</li>\n",
        "</ul>\n",
        "<p><strong><em>Note:</em></strong> If you already have your own personal GCP account or project, do not use it for this lab.</p>"
      ]
    },
    {
      "cell_type": "markdown",
      "metadata": {
        "id": "eup1EHMdloa9",
        "colab_type": "text"
      },
      "source": [
        "<h2 id=\"step4\">Task 2: Use Cloud Marketplace to deploy a LAMP stack</h2>\n",
        "<ol>\n",
        "<li>\n",
        "<p>In the GCP Console, on the <strong>Navigation menu</strong> (<img alt=\"Navigation menu\" src=\"https://cdn.qwiklabs.com/LyLHJ5I3gtYdRN1pHDZ2JK2vbd1sM6W2viT0OzyRPTs%3D\">), click <strong>Marketplace</strong>.</p>\n",
        "</li>\n",
        "<li>\n",
        "<p>In the search bar, type <code>LAMP</code></p>\n",
        "</li>\n",
        "<li>\n",
        "<p>In the search results, click <strong>LAMP Certified by Bitnami</strong>.</p>\n",
        "<p>If you choose another LAMP stack, such as the Google Click to Deploy offering, the lab instructions will not work as expected.</p>\n",
        "</li>\n",
        "<li>\n",
        "<p>On the LAMP page, click <strong>Launch on Compute Engine</strong>.</p>\n",
        "<p>If this is your first time using Compute Engine, the Compute Engine API must be initialized before you can continue.</p>\n",
        "</li>\n",
        "<li>\n",
        "<p>For <strong>Zone</strong>, select the deployment zone that Qwiklabs assigned to you.</p>\n",
        "</li>\n",
        "<li>\n",
        "<p>Leave the remaining settings as their defaults.</p>\n",
        "</li>\n",
        "<li>\n",
        "<p>If you are prompted to accept the GCP Marketplace Terms of Service, do so.</p>\n",
        "</li>\n",
        "<li>\n",
        "<p>Click <strong>Deploy</strong>.</p>\n",
        "</li>\n",
        "<li>\n",
        "<p>If a <strong>Welcome to Deployment Manager</strong> message appears, click <strong>Close</strong> to dismiss it.</p>\n",
        "<p>The status of the deployment appears in the console window: <strong>lampstack-1 is being deployed</strong>. When the deployment of the infrastructure is complete, the status changes to <strong>lampstack-1 has been deployed</strong>.</p>\n",
        "<p>After the software is installed, a summary of the details for the instance, including the site address, is displayed.</p>\n",
        "</li>\n",
        "</ol>"
      ]
    },
    {
      "cell_type": "markdown",
      "metadata": {
        "id": "JksO2JnglogI",
        "colab_type": "text"
      },
      "source": [
        "<h2 id=\"step5\">Task 3: Verify your deployment</h2>\n",
        "<ol>\n",
        "<li>\n",
        "<p>When the deployment is complete, click the <strong>Site address</strong> link in the right pane.</p>\n",
        "<p>Alternatively, you can click <strong>Visit the site</strong> in the <strong>Get started with LAMP Certified by Bitnami</strong> section of the page.\n",
        "A new browser tab displays a congratulations message. This page confirms that, as part of the LAMP stack, the Apache HTTP Server is running.</p>\n",
        "</li>\n",
        "<li>\n",
        "<p>Close the congratulations browser tab.</p>\n",
        "</li>\n",
        "<li>\n",
        "<p>On the GCP Console, under <strong>Get started with LAMP Certified by Bitnami</strong>, click <strong>SSH</strong>.</p>\n",
        "<p>In a new window, a secure login shell session on your virtual machine appears.</p>\n",
        "</li>\n",
        "<li>\n",
        "<p>In the just-created SSH window, to change the current working directory to <code>/opt/bitnami</code>, execute the following command:</p>\n",
        "<pre><code>cd /opt/bitnami\n",
        "</code><button class=\"button button--copy js-copy-button-0\"><i class=\"fa fa-clipboard\"></i></button></pre>\n",
        "</li>\n",
        "<li>\n",
        "<p>To copy the <code>phpinfo.php</code> script from the installation directory to a publicly accessible location under the web server document root, execute the following command:</p>\n",
        "<pre><code>sudo cp docs/phpinfo.php apache2/htdocs\n",
        "</code><button class=\"button button--copy js-copy-button-1\"><i class=\"fa fa-clipboard\"></i></button></pre>\n",
        "<p>The phpinfo.php script displays your PHP configuration. It is often used to verify a new PHP installation.</p>\n",
        "</li>\n",
        "<li>\n",
        "<p>To close the SSH window, execute the following command:</p>\n",
        "<pre><code>exit\n",
        "</code><button class=\"button button--copy js-copy-button-2\"><i class=\"fa fa-clipboard\"></i></button></pre>\n",
        "</li>\n",
        "<li>\n",
        "<p>Open a new browser tab.</p>\n",
        "</li>\n",
        "<li>\n",
        "<p>Type the following URL, and replace <code>SITE_ADDRESS</code> with the URL in the <strong>Site address</strong> field in the right pane of the <strong>lampstack</strong> page.</p>\n",
        "<pre><code>http://SITE_ADDRESS/phpinfo.php\n",
        "</code><button class=\"button button--copy js-copy-button-3\"><i class=\"fa fa-clipboard\"></i></button></pre>\n",
        "<p>A summary of the PHP configuration of your server is displayed.</p>\n",
        "</li>\n",
        "<li>\n",
        "<p>Close the phpinfo tab.</p>\n",
        "</li>\n",
        "</ol>"
      ]
    },
    {
      "cell_type": "markdown",
      "metadata": {
        "id": "YXeIYSfMmROo",
        "colab_type": "text"
      },
      "source": [
        "<h2 id=\"step6\">Congratulations!</h2>\n",
        "<p>In this lab, you deployed a LAMP stack to a Compute Engine instance.</p>"
      ]
    },
    {
      "cell_type": "markdown",
      "metadata": {
        "id": "hvUfpeCJ2hov",
        "colab_type": "text"
      },
      "source": [
        "#GCP Fundamentals: Getting Started with Compute Engine"
      ]
    },
    {
      "cell_type": "markdown",
      "metadata": {
        "id": "ae3xW_L22sX9",
        "colab_type": "text"
      },
      "source": [
        "**Overview**\n",
        "\n",
        "In this lab, you will create virtual machines (VMs) and connect to them. You will also create connections between the instances."
      ]
    },
    {
      "cell_type": "markdown",
      "metadata": {
        "id": "n6I-UoIb2yZW",
        "colab_type": "text"
      },
      "source": [
        "Objectives\n",
        "\n",
        "In this lab, you will learn how to perform the following tasks:\n",
        "\n",
        "Create a Compute Engine virtual machine using the Google Cloud Platform (GCP) Console.\n",
        "\n",
        "Create a Compute Engine virtual machine using the gcloud command-line interface.\n",
        "\n",
        "Connect between the two instances."
      ]
    },
    {
      "cell_type": "markdown",
      "metadata": {
        "id": "GtUM_0d628Yy",
        "colab_type": "text"
      },
      "source": [
        "**Task 1: Create a virtual machine using the GCP Console**"
      ]
    },
    {
      "cell_type": "markdown",
      "metadata": {
        "id": "7CZRJQY_28ds",
        "colab_type": "text"
      },
      "source": [
        "1. In the **Navigation menu** (Hamburger sign), click **Compute Engine** > **VM instances**.\n",
        "2. Click Create.\n",
        "3. On the **Create an Instance** page, for **Name**, type my-vm-1\n",
        "4. For **Region** and **Zone**, select the region and zone assigned by Qwiklabs.\n",
        "5. For **Machine type**, accept the default.\n",
        "6. For **Boot disk**, if the Image shown is not **Debian GNU/Linux 9 (stretch)**, click Change and select **Debian GNU/Linux 9 (stretch)**.\n",
        "7. Leave the defaults for **Identity and API access** unmodified.\n",
        "8. For Firewall, click **Allow HTTP traffic**.\n",
        "9. Leave all other defaults unmodified.\n",
        "10. To create and launch the VM, click **Create**.\n",
        "\n",
        "**Note**: The VM can take about two minutes to launch and be fully available for use.\n",
        "\n",
        "\n"
      ]
    },
    {
      "cell_type": "markdown",
      "metadata": {
        "id": "p-enl7Bm28ii",
        "colab_type": "text"
      },
      "source": [
        "**Task 2: Create a virtual machine using the gcloud command line**"
      ]
    },
    {
      "cell_type": "markdown",
      "metadata": {
        "id": "f3Sj3mLp28nO",
        "colab_type": "text"
      },
      "source": [
        "**1.** On the **Google Cloud Platform**(On right top) menu, click **Activate Cloud Shell** Activate Cloud Shell. If a dialog box appears, click **Start Cloud Shell**.\n",
        "\n",
        "**2.** To display a list of all the zones in the region to which Qwiklabs assigned you, enter this partial command gcloud compute zones list | grep followed by the region that Qwiklabs or your instructor assigned you to.\n"
      ]
    },
    {
      "cell_type": "code",
      "metadata": {
        "id": "X1olR97x4tIO",
        "colab_type": "code",
        "colab": {}
      },
      "source": [
        "# Your completed command will look like this:\n",
        "gcloud compute zones list | grep us-central1"
      ],
      "execution_count": 0,
      "outputs": []
    },
    {
      "cell_type": "markdown",
      "metadata": {
        "id": "NjC3VkXk28rP",
        "colab_type": "text"
      },
      "source": [
        "**3.** Choose a zone from that list other than the zone to which Qwiklabs assigned you. For example, if Qwiklabs assigned you to region us-central1 and zone us-central1-a you might choose zone us-central1-b.\n",
        "\n",
        "**4.** To set your default zone to the one you just chose, enter this partial command gcloud config set compute/zone followed by the zone you chose.\n",
        "\n",
        "\t\n"
      ]
    },
    {
      "cell_type": "code",
      "metadata": {
        "id": "TyomGmyz5AwW",
        "colab_type": "code",
        "colab": {}
      },
      "source": [
        "#Your completed command will look like this:\n",
        "gcloud config set compute/zone us-central1-b"
      ],
      "execution_count": 0,
      "outputs": []
    },
    {
      "cell_type": "markdown",
      "metadata": {
        "id": "IQ6Z0D6u28vQ",
        "colab_type": "text"
      },
      "source": [
        "**5.** To create a VM instance called **my-vm-2** in that zone, execute this command:"
      ]
    },
    {
      "cell_type": "code",
      "metadata": {
        "id": "xmbrdJH35GCx",
        "colab_type": "code",
        "colab": {}
      },
      "source": [
        "# Note: The VM can take about two minutes to launch and be fully available for use.\n",
        "gcloud compute instances create \"my-vm-2\" \\\n",
        "--machine-type \"n1-standard-1\" \\\n",
        "--image-project \"debian-cloud\" \\\n",
        "--image \"debian-9-stretch-v20190213\" \\\n",
        "--subnet \"default\""
      ],
      "execution_count": 0,
      "outputs": []
    },
    {
      "cell_type": "markdown",
      "metadata": {
        "id": "Wg_-M8Nm5LmT",
        "colab_type": "text"
      },
      "source": [
        "**6.** To close the Cloud Shell, execute the following command:"
      ]
    },
    {
      "cell_type": "code",
      "metadata": {
        "id": "KLSizJ1D5MoU",
        "colab_type": "code",
        "colab": {}
      },
      "source": [
        "exit"
      ],
      "execution_count": 0,
      "outputs": []
    },
    {
      "cell_type": "markdown",
      "metadata": {
        "id": "WpLENve551ii",
        "colab_type": "text"
      },
      "source": [
        "**Task 3: Connect between VM instances**"
      ]
    },
    {
      "cell_type": "markdown",
      "metadata": {
        "id": "SuBiPbuW5gtW",
        "colab_type": "text"
      },
      "source": [
        "**1.** In the **Navigation menu** (Hamburger Sign), click **Compute Engine** > **VM instances**. You will see the two VM instances you created, each in a different zone. Notice that the Internal IP addresses of these two instances share the first three bytes in common. They reside on the same subnet in their Google Cloud VPC even though they are in different zones.\n",
        "\n",
        "**2.** To open a command prompt on the **my-vm-2** instance, click **SSH** in its row in the **VM instances** list.\n",
        "\n",
        "**3.** Use the ping command to confirm that **my-vm-2** can reach **my-vm-1** over the network:"
      ]
    },
    {
      "cell_type": "code",
      "metadata": {
        "id": "bOuc2Ots5zHc",
        "colab_type": "code",
        "colab": {}
      },
      "source": [
        "ping my-vm-1"
      ],
      "execution_count": 0,
      "outputs": []
    },
    {
      "cell_type": "markdown",
      "metadata": {
        "id": "SR5vg33l5-dC",
        "colab_type": "text"
      },
      "source": [
        "Notice that the output of the ping command reveals that the complete hostname of **my-vm-1** is **my-vm-1.c.PROJECT_ID.internal**, where PROJECT_ID is the name of your Google Cloud Platform project. GCP automatically supplies Domain Name Service (DNS) resolution for the internal IP addresses of VM instances."
      ]
    },
    {
      "cell_type": "markdown",
      "metadata": {
        "id": "2lR5m4Qn58xc",
        "colab_type": "text"
      },
      "source": [
        "**4.** Press **Ctrl+C** to abort the ping command.\n",
        "\n",
        "**5.** Use the **ssh** command to open a command prompt on my-vm-1:"
      ]
    },
    {
      "cell_type": "code",
      "metadata": {
        "id": "2f34om1h6FCu",
        "colab_type": "code",
        "colab": {}
      },
      "source": [
        "ssh my-vm-1"
      ],
      "execution_count": 0,
      "outputs": []
    },
    {
      "cell_type": "markdown",
      "metadata": {
        "id": "ZwWj24-s6GVD",
        "colab_type": "text"
      },
      "source": [
        "If you are prompted about whether you want to continue connecting to a host with unknown authenticity, enter **yes** to confirm that you do."
      ]
    },
    {
      "cell_type": "markdown",
      "metadata": {
        "id": "6srPZo8J6JVe",
        "colab_type": "text"
      },
      "source": [
        "**6.** At the command prompt on **my-vm-1**, install the Nginx web server:"
      ]
    },
    {
      "cell_type": "code",
      "metadata": {
        "id": "F48R1_In6OrZ",
        "colab_type": "code",
        "colab": {}
      },
      "source": [
        "sudo apt-get install nginx-light -y"
      ],
      "execution_count": 0,
      "outputs": []
    },
    {
      "cell_type": "markdown",
      "metadata": {
        "id": "X5ysnao96PTA",
        "colab_type": "text"
      },
      "source": [
        "**7.** Use the **nano** text editor to add a custom message to the home page of the web server:"
      ]
    },
    {
      "cell_type": "code",
      "metadata": {
        "id": "1WP350wD6VEX",
        "colab_type": "code",
        "colab": {}
      },
      "source": [
        "sudo nano /var/www/html/index.nginx-debian.html"
      ],
      "execution_count": 0,
      "outputs": []
    },
    {
      "cell_type": "markdown",
      "metadata": {
        "id": "nmNAT0Bb6Vrj",
        "colab_type": "text"
      },
      "source": [
        "**8.** Use the arrow keys to move the cursor to the line just below the h1 header. Add text like this, and replace YOUR_NAME with your name:"
      ]
    },
    {
      "cell_type": "code",
      "metadata": {
        "id": "952Evigz6at-",
        "colab_type": "code",
        "colab": {}
      },
      "source": [
        "<p>Hi from YOUR_NAME</p>"
      ],
      "execution_count": 0,
      "outputs": []
    },
    {
      "cell_type": "markdown",
      "metadata": {
        "id": "pta6u_ge6bNY",
        "colab_type": "text"
      },
      "source": [
        "**9.** Press **Ctrl+O** and then press **Enter** to save your edited file, and then press **Ctrl+X** to exit the nano text editor.\n",
        "\n",
        "**10.** Confirm that the web server is serving your new page. At the command prompt on **my-vm-1**, execute this command:"
      ]
    },
    {
      "cell_type": "code",
      "metadata": {
        "id": "4Yb8evbc6tiW",
        "colab_type": "code",
        "colab": {}
      },
      "source": [
        "curl http://localhost/"
      ],
      "execution_count": 0,
      "outputs": []
    },
    {
      "cell_type": "markdown",
      "metadata": {
        "id": "VFQ2Mvl56vzo",
        "colab_type": "text"
      },
      "source": [
        "The response will be the HTML source of the web server's home page, including your line of custom text.\n",
        "\n"
      ]
    },
    {
      "cell_type": "markdown",
      "metadata": {
        "id": "Dy5nTTRs60Qd",
        "colab_type": "text"
      },
      "source": [
        "**11.** To exit the command prompt on **my-vm-1**, execute this command:"
      ]
    },
    {
      "cell_type": "code",
      "metadata": {
        "id": "o341lk-t608M",
        "colab_type": "code",
        "colab": {}
      },
      "source": [
        "exit"
      ],
      "execution_count": 0,
      "outputs": []
    },
    {
      "cell_type": "markdown",
      "metadata": {
        "id": "RrIG9WYA67ek",
        "colab_type": "text"
      },
      "source": [
        "You will return to the command prompt on my-vm-2"
      ]
    },
    {
      "cell_type": "markdown",
      "metadata": {
        "id": "ri76C9kL69kR",
        "colab_type": "text"
      },
      "source": [
        "**12.** To confirm that **my-vm-2** can reach the web server on **my-vm-1**, at the command prompt on **my-vm-2**, execute this command:"
      ]
    },
    {
      "cell_type": "code",
      "metadata": {
        "id": "cck2JiEv7Aen",
        "colab_type": "code",
        "colab": {}
      },
      "source": [
        "curl http://my-vm-1/"
      ],
      "execution_count": 0,
      "outputs": []
    },
    {
      "cell_type": "markdown",
      "metadata": {
        "id": "0KpIIV-97DzQ",
        "colab_type": "text"
      },
      "source": [
        "The response will again be the HTML source of the web server's home page, including your line of custom text."
      ]
    },
    {
      "cell_type": "markdown",
      "metadata": {
        "id": "rHq_bVXK7FDA",
        "colab_type": "text"
      },
      "source": [
        "**13.** In the **Navigation menu**, click **Compute Engine** > **VM instances**."
      ]
    },
    {
      "cell_type": "markdown",
      "metadata": {
        "id": "X32IeZ2f7JeL",
        "colab_type": "text"
      },
      "source": [
        "**14.** Copy the External IP address for my-vm-1 and paste it into the address bar of a new browser tab. You will see your web server's home page, including your custom text."
      ]
    },
    {
      "cell_type": "markdown",
      "metadata": {
        "id": "xmcoOEm67SNM",
        "colab_type": "text"
      },
      "source": [
        "If you forgot to click **Allow HTTP traffic** when you created the my-vm-1 VM instance, your attempt to reach your web server's home page will fail. You can add a [firewall rule](https://cloud.google.com/vpc/docs/firewalls) to allow inbound traffic to your instances."
      ]
    },
    {
      "cell_type": "markdown",
      "metadata": {
        "id": "xAzKMzDZ7WTU",
        "colab_type": "text"
      },
      "source": [
        "**Congratulations!**\n",
        "\n",
        "In this lab, you created virtual machine (VM) instances in two different zones and connected to them using ping, ssh, and HTTP."
      ]
    },
    {
      "cell_type": "markdown",
      "metadata": {
        "id": "LvdaHWEYEGpY",
        "colab_type": "text"
      },
      "source": [
        "#GCP Fundamentals: Getting Started with Cloud Storage and Cloud SQL"
      ]
    },
    {
      "cell_type": "markdown",
      "metadata": {
        "id": "uGzjwF9uEPiE",
        "colab_type": "text"
      },
      "source": [
        "Overview\n",
        "In this lab, you create a Cloud Storage bucket and place an image in it. You'll also configure an application running in Compute Engine to use a database managed by Cloud SQL. For this lab, you will configure a web server with PHP, a web development environment that is the basis for popular blogging software. Outside this lab, you will use analogous techniques to configure these packages.\n",
        "\n",
        "You also configure the web server to reference the image in the Cloud Storage bucket."
      ]
    },
    {
      "cell_type": "markdown",
      "metadata": {
        "id": "UsGeSeM_EUJU",
        "colab_type": "text"
      },
      "source": [
        "Objectives\n",
        "\n",
        "1. In this lab, you learn how to perform the following tasks:\n",
        "\n",
        "2. Create a Cloud Storage bucket and place an image into it.\n",
        "\n",
        "3. Create a Cloud SQL instance and configure it.\n",
        "\n",
        "4. Connect to the Cloud SQL instance from a web server.\n",
        "\n",
        "5. Use the image in the Cloud Storage bucket on a web page.\n"
      ]
    },
    {
      "cell_type": "markdown",
      "metadata": {
        "id": "xlyTM3w1I5DB",
        "colab_type": "text"
      },
      "source": [
        "<h2 id=\"step4\">Task 1: Deploy a web server VM instance</h2>"
      ]
    },
    {
      "cell_type": "markdown",
      "metadata": {
        "id": "_E4Kn3VHEeYZ",
        "colab_type": "text"
      },
      "source": [
        "<ol>\n",
        "<li>\n",
        "<p>In the GCP Console, on the <strong>Navigation menu</strong> (<img alt=\"Navigation menu\" src=\"https://cdn.qwiklabs.com/LyLHJ5I3gtYdRN1pHDZ2JK2vbd1sM6W2viT0OzyRPTs%3D\">), click <strong>Compute Engine</strong> &gt; <strong>VM instances</strong>.</p>\n",
        "</li>\n",
        "<li>\n",
        "<p>Click <strong>Create</strong>.</p>\n",
        "</li>\n",
        "<li>\n",
        "<p>On the <strong>Create an Instance</strong> page, for <strong>Name</strong>, type <code>bloghost</code></p>\n",
        "</li>\n",
        "<li>\n",
        "<p>For <strong>Region</strong> and <strong>Zone</strong>, select the region and zone assigned by Qwiklabs.</p>\n",
        "</li>\n",
        "<li>\n",
        "<p>For <strong>Machine type</strong>, accept the default.</p>\n",
        "</li>\n",
        "<li>\n",
        "<p>For <strong>Boot disk</strong>, if the <strong>Image</strong> shown is not <strong>Debian GNU/Linux 9 (stretch)</strong>, click <strong>Change</strong> and select <strong>Debian GNU/Linux 9 (stretch)</strong>.</p>\n",
        "</li>\n",
        "<li>\n",
        "<p>Leave the defaults for <strong>Identity and API access</strong> unmodified.</p>\n",
        "</li>\n",
        "<li>\n",
        "<p>For <strong>Firewall</strong>, click <strong>Allow HTTP traffic</strong>.</p>\n",
        "</li>\n",
        "<li>\n",
        "<p>Click <strong>Management, security, disks, networking, sole tenancy</strong> to open that section of the dialog.</p>\n",
        "</li>\n",
        "<li>\n",
        "<p>Enter the following script as the value for <strong>Startup script</strong>:</p>\n",
        "</li>\n",
        "</ol>"
      ]
    },
    {
      "cell_type": "markdown",
      "metadata": {
        "id": "w8JmpivkE1kh",
        "colab_type": "text"
      },
      "source": [
        "<pre><code>apt-get update\n",
        "apt-get install apache2 php php-mysql -y\n",
        "service apache2 restart</code></pre>"
      ]
    },
    {
      "cell_type": "markdown",
      "metadata": {
        "id": "CKirRyMFE6dE",
        "colab_type": "text"
      },
      "source": [
        "<aside class=\"special\"><p>Be sure to supply that script as the value of the <b>Startup script</b> field. If you accidentally put it into another field, it won't be executed when the VM instance starts.</p></aside>"
      ]
    },
    {
      "cell_type": "markdown",
      "metadata": {
        "id": "c12jLPmeFFa0",
        "colab_type": "text"
      },
      "source": [
        "<ol start=\"11\">\n",
        "<li>Leave the remaining settings as their defaults, and click <strong>Create</strong>.</li>\n",
        "</ol>"
      ]
    },
    {
      "cell_type": "markdown",
      "metadata": {
        "id": "kanA81fAFK2I",
        "colab_type": "text"
      },
      "source": [
        "<aside class=\"special\"><p>Instance can take about two minutes to launch and be fully available for use.</p></aside>"
      ]
    },
    {
      "cell_type": "markdown",
      "metadata": {
        "id": "q_s8cZ0dFOOt",
        "colab_type": "text"
      },
      "source": [
        "<ol start=\"12\">\n",
        "<li>On the <strong>VM instances</strong> page, copy the <strong>bloghost</strong> VM instance's internal and external IP addresses to a text editor for use later in this lab.</li>\n",
        "</ol>"
      ]
    },
    {
      "cell_type": "markdown",
      "metadata": {
        "id": "EX9VS_M1FOWr",
        "colab_type": "text"
      },
      "source": [
        "<h2 id=\"step5\">Task 2: Create a Cloud Storage bucket using the gsutil command line</h2>"
      ]
    },
    {
      "cell_type": "markdown",
      "metadata": {
        "id": "vezaoZcyFOa-",
        "colab_type": "text"
      },
      "source": [
        "<p>All Cloud Storage bucket names must be globally unique. To ensure that your bucket name is unique, these instructions will guide you to give your bucket the same name as your Cloud Platform project ID, which is also globally unique.</p>"
      ]
    },
    {
      "cell_type": "markdown",
      "metadata": {
        "id": "mtpWS7l2FOlg",
        "colab_type": "text"
      },
      "source": [
        "<p>Cloud Storage buckets can be associated with either a region or a multi-region location: <strong>US</strong>, <strong>EU</strong>, or <strong>ASIA</strong>. In this activity, you associate your bucket with the multi-region closest to the region and zone that Qwiklabs or your instructor assigned you to.</p>"
      ]
    },
    {
      "cell_type": "markdown",
      "metadata": {
        "id": "1uLgmL6dFOqW",
        "colab_type": "text"
      },
      "source": [
        "<ol>\n",
        "<li>\n",
        "<p>On the <strong>Google Cloud Platform</strong> menu, click <strong>Activate Cloud Shell</strong> <img alt=\"Activate Cloud Shell\" src=\"https://cdn.qwiklabs.com/sqKx45X8b2P7ygEtesyerKaHyXQGXOYNqXOqo%2Bl8nDA%3D\">. If a dialog box appears, click <strong>Start Cloud Shell</strong>.</p>\n",
        "</li>\n",
        "<li>\n",
        "<p>For convenience, enter your chosen location into an environment variable called LOCATION. Enter one of these commands:</p>\n",
        "</li>\n",
        "</ol>"
      ]
    },
    {
      "cell_type": "code",
      "metadata": {
        "id": "baoAuU1UFOkR",
        "colab_type": "code",
        "colab": {}
      },
      "source": [
        "export LOCATION=US\n",
        "export LOCATION=EU\n",
        "export LOCATION=ASIA"
      ],
      "execution_count": 0,
      "outputs": []
    },
    {
      "cell_type": "markdown",
      "metadata": {
        "id": "SuhHQnAoFOgC",
        "colab_type": "text"
      },
      "source": [
        "<ol start=\"3\">\n",
        "<li>\n",
        "<p>In Cloud Shell, the DEVSHELL_PROJECT_ID environment variable contains your project ID. Enter this command to make a bucket named after your project ID:</p>\n",
        "</li>\n",
        "</ol>"
      ]
    },
    {
      "cell_type": "markdown",
      "metadata": {
        "id": "bE-7J21YFOU-",
        "colab_type": "text"
      },
      "source": [
        "<pre><code>gsutil mb -l $LOCATION gs://$DEVSHELL_PROJECT_ID\n",
        "</code></pre>"
      ]
    },
    {
      "cell_type": "markdown",
      "metadata": {
        "id": "6qU5UzRNFz8j",
        "colab_type": "text"
      },
      "source": [
        "<ol start=\"4\">\n",
        "<li>\n",
        "<p>Retrieve a banner image from a publicly accessible Cloud Storage location:</p>\n",
        "</li>\n",
        "</ol>"
      ]
    },
    {
      "cell_type": "markdown",
      "metadata": {
        "id": "abTsVG45Fz4q",
        "colab_type": "text"
      },
      "source": [
        "<pre><code>gsutil cp gs://cloud-training/gcpfci/my-excellent-blog.png my-excellent-blog.png\n",
        "</code></pre>"
      ]
    },
    {
      "cell_type": "markdown",
      "metadata": {
        "id": "qEuiy20JFz3Q",
        "colab_type": "text"
      },
      "source": [
        "<ol start=\"5\">\n",
        "<li>\n",
        "<p>Copy the banner image to your newly created Cloud Storage bucket:</p>\n",
        "</li>\n",
        "</ol>"
      ]
    },
    {
      "cell_type": "markdown",
      "metadata": {
        "id": "z6sLgpT-Fz1s",
        "colab_type": "text"
      },
      "source": [
        "<pre><code>gsutil cp my-excellent-blog.png gs://$DEVSHELL_PROJECT_ID/my-excellent-blog.png\n",
        "</code></pre>"
      ]
    },
    {
      "cell_type": "markdown",
      "metadata": {
        "id": "yhdaiW3RFztu",
        "colab_type": "text"
      },
      "source": [
        "<ol start=\"6\">\n",
        "<li>\n",
        "<p>Modify the Access Control List of the object you just created so that it is readable by everyone:</p>\n",
        "</li>\n",
        "</ol>"
      ]
    },
    {
      "cell_type": "markdown",
      "metadata": {
        "id": "k0Pn2poAGajD",
        "colab_type": "text"
      },
      "source": [
        "<pre><code>gsutil acl ch -u allUsers:R gs://$DEVSHELL_PROJECT_ID/my-excellent-blog.png\n",
        "</code></pre>"
      ]
    },
    {
      "cell_type": "markdown",
      "metadata": {
        "id": "MQlK9V2KGatG",
        "colab_type": "text"
      },
      "source": [
        "<h2 id=\"step6\">Task 3: Create the Cloud SQL instance</h2>"
      ]
    },
    {
      "cell_type": "markdown",
      "metadata": {
        "id": "7IXM0-5_Ga55",
        "colab_type": "text"
      },
      "source": [
        "<ol>\n",
        "<li>\n",
        "<p>In the GCP Console, on the <strong>Navigation menu</strong> (<img alt=\"Navigation menu\" src=\"https://cdn.qwiklabs.com/LyLHJ5I3gtYdRN1pHDZ2JK2vbd1sM6W2viT0OzyRPTs%3D\">), click <strong>Storage</strong> &gt; <strong>SQL</strong>.</p>\n",
        "</li>\n",
        "<li>\n",
        "<p>Click <strong>Create instance</strong>.</p>\n",
        "</li>\n",
        "<li>\n",
        "<p>For <strong>Choose a database engine</strong>, select <strong>MySQL</strong>.</p>\n",
        "</li>\n",
        "<li>\n",
        "<p>For <strong>Instance ID,</strong> type <strong>blog-db</strong>, and for <strong>Root password</strong> type a password of your choice.</p>\n",
        "</li>\n",
        "</ol>"
      ]
    },
    {
      "cell_type": "markdown",
      "metadata": {
        "id": "kDupiCwFGa3G",
        "colab_type": "text"
      },
      "source": [
        "<aside class=\"special\"><p>Choose a password that you remember. There's no need to obscure the password because you'll use mechanisms to connect that aren't open access to everyone.</p></aside>"
      ]
    },
    {
      "cell_type": "markdown",
      "metadata": {
        "id": "HNect-bDGa0f",
        "colab_type": "text"
      },
      "source": [
        "<ol start=\"5\">\n",
        "<li>Set the region and zone assigned by Qwiklabs.</li>\n",
        "</ol>"
      ]
    },
    {
      "cell_type": "markdown",
      "metadata": {
        "id": "WlJD9ncSGazE",
        "colab_type": "text"
      },
      "source": [
        "<aside class=\"special\"><p>This is the same region and zone into which you launched the <b>bloghost</b> instance. The best performance is achieved by placing the client and the database close to each other.</p></aside>"
      ]
    },
    {
      "cell_type": "markdown",
      "metadata": {
        "id": "eQW1Re2UGaxr",
        "colab_type": "text"
      },
      "source": [
        "<ol start=\"6\">\n",
        "<li>Click <strong>Create</strong>.</li>\n",
        "</ol>"
      ]
    },
    {
      "cell_type": "markdown",
      "metadata": {
        "id": "auy2yLiSGarh",
        "colab_type": "text"
      },
      "source": [
        "<aside class=\"special\"><p>Wait for the instance to finish deploying. It will take a few minutes.</p></aside>"
      ]
    },
    {
      "cell_type": "markdown",
      "metadata": {
        "id": "NrzdZLATGaqc",
        "colab_type": "text"
      },
      "source": [
        "<ol start=\"7\">\n",
        "<li>\n",
        "<p>Click on the name of the instance, <strong>blog-db</strong>, to open its details page.</p>\n",
        "</li>\n",
        "<li>\n",
        "<p>From the SQL instances details page, copy the <strong>Public IP address</strong> for your SQL instance to a text editor for use later in this lab.</p>\n",
        "</li>\n",
        "<li>\n",
        "<p>Click the <strong>Users</strong> tab, and then click <strong>Create user account</strong>.</p>\n",
        "</li>\n",
        "<li>\n",
        "<p>For <strong>User name</strong>, type <code>blogdbuser</code></p>\n",
        "</li>\n",
        "<li>\n",
        "<p>For <strong>Password</strong>, type a password of your choice. Make a note of it.</p>\n",
        "</li>\n",
        "<li>\n",
        "<p>Click <strong>Create</strong> to create the user account in the database.</p>\n",
        "</li>\n",
        "</ol>"
      ]
    },
    {
      "cell_type": "markdown",
      "metadata": {
        "id": "4lJxG110Gaod",
        "colab_type": "text"
      },
      "source": [
        "<aside class=\"special\"><p>Wait for the user to be created.</p></aside>"
      ]
    },
    {
      "cell_type": "markdown",
      "metadata": {
        "id": "9gCD-q2zG58h",
        "colab_type": "text"
      },
      "source": [
        "<ol start=\"13\">\n",
        "<li>Click the <strong>Connections</strong> tab, and then click <strong>Add network</strong>.</li>\n",
        "</ol>"
      ]
    },
    {
      "cell_type": "markdown",
      "metadata": {
        "id": "HWl0FTj1G6BC",
        "colab_type": "text"
      },
      "source": [
        "<aside class=\"special\"><p>If you are offered the choice between a <b>Private IP</b> connection and a <b>Public IP</b> connection, choose <b>Public IP</b> for purposes of this lab. The <b>Private IP</b> feature is in beta at the time this lab was written.</p></aside>"
      ]
    },
    {
      "cell_type": "markdown",
      "metadata": {
        "id": "Yys35Dm0G6Fl",
        "colab_type": "text"
      },
      "source": [
        "<aside class=\"special\"><p>The <b>Add network</b> button may be grayed out if the user account creation is not yet complete.</p></aside>"
      ]
    },
    {
      "cell_type": "markdown",
      "metadata": {
        "id": "eb0wvnGnG6L-",
        "colab_type": "text"
      },
      "source": [
        "<ol start=\"14\">\n",
        "<li>\n",
        "<p>For <strong>Name</strong>, type <code>web front end</code></p>\n",
        "</li>\n",
        "<li>\n",
        "<p>For <strong>Network</strong>, type the external IP address of your <strong>bloghost</strong> VM instance, followed by <code>/32</code></p>\n",
        "</li>\n",
        "</ol>"
      ]
    },
    {
      "cell_type": "markdown",
      "metadata": {
        "id": "wTeGaF96G6QC",
        "colab_type": "text"
      },
      "source": [
        "<p>The result will look like this:</p>"
      ]
    },
    {
      "cell_type": "markdown",
      "metadata": {
        "id": "n5qBQVKCG6Uk",
        "colab_type": "text"
      },
      "source": [
        "<pre><code>35.192.208.2/32\n",
        "</code></pre>"
      ]
    },
    {
      "cell_type": "markdown",
      "metadata": {
        "id": "wUNtSX0PG6Yj",
        "colab_type": "text"
      },
      "source": [
        "<aside class=\"special\"><p>Be sure to use the external IP address of your VM instance followed by /32. Do not use the VM instance's internal IP address. Do not use the sample IP address shown here.</p></aside>"
      ]
    },
    {
      "cell_type": "markdown",
      "metadata": {
        "id": "NgTrnpD4G6cN",
        "colab_type": "text"
      },
      "source": [
        "<ol start=\"16\">\n",
        "<li>\n",
        "<p>Click <strong>Done</strong> to finish defining the authorized network.</p>\n",
        "</li>\n",
        "<li>\n",
        "<p>Click <strong>Save</strong> to save the configuration change.</p>\n",
        "</li>\n",
        "</ol>"
      ]
    },
    {
      "cell_type": "markdown",
      "metadata": {
        "id": "KBwha7qzG6j9",
        "colab_type": "text"
      },
      "source": [
        "<h2 id=\"step7\">Task 4: Configure an application in a Compute Engine instance to use Cloud SQL</h2>"
      ]
    },
    {
      "cell_type": "markdown",
      "metadata": {
        "id": "yBtkY_W3G6od",
        "colab_type": "text"
      },
      "source": [
        "<ol>\n",
        "<li>\n",
        "<p>On the <strong>Navigation menu</strong> (<img alt=\"Navigation menu\" src=\"https://cdn.qwiklabs.com/LyLHJ5I3gtYdRN1pHDZ2JK2vbd1sM6W2viT0OzyRPTs%3D\">), click <strong>Compute Engine</strong> &gt; <strong>VM instances</strong>.</p>\n",
        "</li>\n",
        "<li>\n",
        "<p>In the VM instances list, click <strong>SSH</strong> in the row for your VM instance <strong>bloghost</strong>.</p>\n",
        "</li>\n",
        "<li>\n",
        "<p>In your ssh session on <strong>bloghost</strong>, change your working directory to the document root of the web server:</p>\n",
        "</li>\n",
        "</ol>"
      ]
    },
    {
      "cell_type": "markdown",
      "metadata": {
        "id": "gQyVoDnaHRhX",
        "colab_type": "text"
      },
      "source": [
        "<pre><code>cd /var/www/html\n",
        "</code></pre>"
      ]
    },
    {
      "cell_type": "markdown",
      "metadata": {
        "id": "JlHBZoYRHRs0",
        "colab_type": "text"
      },
      "source": [
        "<ol start=\"4\">\n",
        "<li>\n",
        "<p>Use the <strong>nano</strong> text editor to edit a file called <strong>index.php</strong>:</p>\n",
        "</li>\n",
        "</ol>"
      ]
    },
    {
      "cell_type": "markdown",
      "metadata": {
        "id": "QTggkhRNHR0k",
        "colab_type": "text"
      },
      "source": [
        "<pre><code>sudo nano index.php\n",
        "</code></pre>"
      ]
    },
    {
      "cell_type": "markdown",
      "metadata": {
        "id": "GdlAP0R9HR5u",
        "colab_type": "text"
      },
      "source": [
        "<ol start=\"5\">\n",
        "<li>\n",
        "<p>Paste the content below into the file:</p>\n",
        "</li>\n",
        "</ol>"
      ]
    },
    {
      "cell_type": "markdown",
      "metadata": {
        "id": "jagTpRkMHSAo",
        "colab_type": "text"
      },
      "source": [
        "<pre><code>&lt;html&gt;\n",
        "&lt;head&gt;&lt;title&gt;Welcome to my excellent blog&lt;/title&gt;&lt;/head&gt;\n",
        "&lt;body&gt;\n",
        "&lt;h1&gt;Welcome to my excellent blog&lt;/h1&gt;\n",
        "&lt;?php\n",
        " $dbserver = \"CLOUDSQLIP\";\n",
        "$dbuser = \"blogdbuser\";\n",
        "$dbpassword = \"DBPASSWORD\";\n",
        "// In a production blog, we would not store the MySQL\n",
        "// password in the document root. Instead, we would store it in a\n",
        "// configuration file elsewhere on the web server VM instance.\n",
        "\n",
        "$conn = new mysqli($dbserver, $dbuser, $dbpassword);\n",
        "\n",
        "if (mysqli_connect_error()) {\n",
        "        echo (\"Database connection failed: \" . mysqli_connect_error());\n",
        "} else {\n",
        "        echo (\"Database connection succeeded.\");\n",
        "}\n",
        "?&gt;\n",
        "&lt;/body&gt;&lt;/html&gt;\n",
        "</code></pre>"
      ]
    },
    {
      "cell_type": "markdown",
      "metadata": {
        "id": "8Oo7evyjHSGu",
        "colab_type": "text"
      },
      "source": [
        "<aside class=\"special\"><p>In a later step, you will insert your Cloud SQL instance's IP address and your database password into this file. For now, leave the file unmodified.</p></aside>"
      ]
    },
    {
      "cell_type": "markdown",
      "metadata": {
        "id": "mpDz7OAwHSLU",
        "colab_type": "text"
      },
      "source": [
        "<ol start=\"6\">\n",
        "<li>\n",
        "<p>Press <strong>Ctrl+O</strong>, and then press <strong>Enter</strong> to save your edited file.</p>\n",
        "</li>\n",
        "<li>\n",
        "<p>Press <strong>Ctrl+X</strong> to exit the nano text editor.</p>\n",
        "</li>\n",
        "<li>\n",
        "<p>Restart the web server:</p>\n",
        "</li>\n",
        "</ol>"
      ]
    },
    {
      "cell_type": "markdown",
      "metadata": {
        "id": "klFE6KI8HSRG",
        "colab_type": "text"
      },
      "source": [
        "<pre><code>sudo service apache2 restart\n",
        "</code></pre>"
      ]
    },
    {
      "cell_type": "markdown",
      "metadata": {
        "id": "kfSJG1imHSV3",
        "colab_type": "text"
      },
      "source": [
        "<ol start=\"9\">\n",
        "<li>\n",
        "<p>Open a new web browser tab and paste into the address bar your <strong>bloghost</strong> VM instance's external IP address followed by <strong>/index.php</strong>. The URL will look like this:</p>\n",
        "</li>\n",
        "</ol>"
      ]
    },
    {
      "cell_type": "markdown",
      "metadata": {
        "id": "e3MQhIXtHqEd",
        "colab_type": "text"
      },
      "source": [
        "<pre><code>35.192.208.2/index.php\n",
        "</code></pre>"
      ]
    },
    {
      "cell_type": "markdown",
      "metadata": {
        "id": "UakIEcvPHqLy",
        "colab_type": "text"
      },
      "source": [
        "<aside class=\"special\"><p>Be sure to use the external IP address of your VM instance followed by /index.php. Do not use the VM instance's internal IP address. Do not use the sample IP address shown here.</p></aside>"
      ]
    },
    {
      "cell_type": "markdown",
      "metadata": {
        "id": "vE2-OcMqHqR2",
        "colab_type": "text"
      },
      "source": [
        "<p>When you load the page, you will see that its content includes an error message beginning with the words:</p>"
      ]
    },
    {
      "cell_type": "markdown",
      "metadata": {
        "id": "B1-APjxzHqVt",
        "colab_type": "text"
      },
      "source": [
        "<pre><code>Database connection failed: ...\n",
        "</code></pre>"
      ]
    },
    {
      "cell_type": "markdown",
      "metadata": {
        "id": "utm9hLr6HqZf",
        "colab_type": "text"
      },
      "source": [
        "<aside class=\"special\"><p>This message occurs because you have not yet configured PHP's connection to your Cloud SQL instance.</p></aside>"
      ]
    },
    {
      "cell_type": "markdown",
      "metadata": {
        "id": "hHnfme2wHqdZ",
        "colab_type": "text"
      },
      "source": [
        "<ol start=\"10\">\n",
        "<li>\n",
        "<p>Return to your ssh session on <strong>bloghost</strong>. Use the <strong>nano</strong> text editor to edit <strong>index.php</strong> again.</p>\n",
        "</li>\n",
        "</ol>"
      ]
    },
    {
      "cell_type": "markdown",
      "metadata": {
        "id": "xbJPjtqSHqhL",
        "colab_type": "text"
      },
      "source": [
        "<pre><code>sudo nano index.php\n",
        "</code></pre>"
      ]
    },
    {
      "cell_type": "markdown",
      "metadata": {
        "id": "oqgLEqyPHqlQ",
        "colab_type": "text"
      },
      "source": [
        "<ol start=\"11\">\n",
        "<li>\n",
        "<p>In the <strong>nano</strong> text editor, replace <code>CLOUDSQLIP</code> with the Cloud SQL instance Public IP address that you noted above. Leave the quotation marks around the value in place.</p>\n",
        "</li>\n",
        "<li>\n",
        "<p>In the <strong>nano</strong> text editor, replace <code>DBPASSWORD</code> with the Cloud SQL database password that you defined above. Leave the quotation marks around the value in place.</p>\n",
        "</li>\n",
        "<li>\n",
        "<p>Press <strong>Ctrl+O</strong>, and then press <strong>Enter</strong> to save your edited file.</p>\n",
        "</li>\n",
        "<li>\n",
        "<p>Press <strong>Ctrl+X</strong> to exit the nano text editor.</p>\n",
        "</li>\n",
        "<li>\n",
        "<p>Restart the web server:</p>\n",
        "</li>\n",
        "</ol>"
      ]
    },
    {
      "cell_type": "markdown",
      "metadata": {
        "id": "_yvMybztHqq3",
        "colab_type": "text"
      },
      "source": [
        "<pre><code>sudo service apache2 restart\n",
        "</code></pre>"
      ]
    },
    {
      "cell_type": "markdown",
      "metadata": {
        "id": "j7h4bMkvHqxE",
        "colab_type": "text"
      },
      "source": [
        "<ol start=\"16\">\n",
        "<li>\n",
        "<p>Return to the web browser tab in which you opened your <strong>bloghost</strong> VM instance's external IP address. When you load the page, the following message appears:</p>\n",
        "</li>\n",
        "</ol>"
      ]
    },
    {
      "cell_type": "markdown",
      "metadata": {
        "id": "VfAPWwDOHq1R",
        "colab_type": "text"
      },
      "source": [
        "<pre><code>Database connection succeeded.\n",
        "</code></pre>"
      ]
    },
    {
      "cell_type": "markdown",
      "metadata": {
        "id": "RkHTmt4KHq7B",
        "colab_type": "text"
      },
      "source": [
        "<aside class=\"special\"><p>In an actual blog, the database connection status would not be visible to blog visitors. Instead, the database connection would be managed solely by the administrator.</p></aside>"
      ]
    },
    {
      "cell_type": "markdown",
      "metadata": {
        "id": "MwRGBv9hHq_Y",
        "colab_type": "text"
      },
      "source": [
        "<h2 id=\"step8\">Task 5: Configure an application in a Compute Engine instance to use a Cloud Storage object</h2>"
      ]
    },
    {
      "cell_type": "markdown",
      "metadata": {
        "id": "N7ffVWkaHrDa",
        "colab_type": "text"
      },
      "source": [
        "<ol>\n",
        "<li>\n",
        "<p>In the GCP Console, click <strong>Storage &gt; Browser</strong>.</p>\n",
        "</li>\n",
        "<li>\n",
        "<p>Click on the bucket that is named after your GCP project.</p>\n",
        "</li>\n",
        "<li>\n",
        "<p>In this bucket, there is an object called <strong>my-excellent-blog.png</strong>. Copy the URL behind the link icon that appears in that object's <strong>Public access</strong> column, or behind the words \"Public link\" if shown.</p>\n",
        "</li>\n",
        "</ol>"
      ]
    },
    {
      "cell_type": "markdown",
      "metadata": {
        "id": "FzH0-4h5IMnJ",
        "colab_type": "text"
      },
      "source": [
        "<aside class=\"special\"><p>If you see neither a link icon nor a \"Public link\", try refreshing the browser. If you still do not see a link icon, return to Cloud Shell and confirm that your attempt to change the object's Access Control list with the <b>gsutil acl ch</b> command was successful.</p></aside>"
      ]
    },
    {
      "cell_type": "markdown",
      "metadata": {
        "id": "X-_GS_K7IMtP",
        "colab_type": "text"
      },
      "source": [
        "<ol start=\"4\">\n",
        "<li>\n",
        "<p>Return to your ssh session on your <strong>bloghost</strong> VM instance.</p>\n",
        "</li>\n",
        "<li>\n",
        "<p>Enter this command to set your working directory to the document root of the web server:</p>\n",
        "</li>\n",
        "</ol>"
      ]
    },
    {
      "cell_type": "markdown",
      "metadata": {
        "id": "9Y9x3UaqIM0C",
        "colab_type": "text"
      },
      "source": [
        "<pre><code>cd /var/www/html\n",
        "</code></pre>"
      ]
    },
    {
      "cell_type": "markdown",
      "metadata": {
        "id": "YGLLuhUDIM5n",
        "colab_type": "text"
      },
      "source": [
        "<ol start=\"6\">\n",
        "<li>\n",
        "<p>Use the <strong>nano</strong> text editor to edit <strong>index.php</strong>:</p>\n",
        "</li>\n",
        "</ol>"
      ]
    },
    {
      "cell_type": "markdown",
      "metadata": {
        "id": "fihchk6uIM93",
        "colab_type": "text"
      },
      "source": [
        "<pre><code>sudo nano index.php\n",
        "</code></pre>"
      ]
    },
    {
      "cell_type": "markdown",
      "metadata": {
        "id": "GAvMGCpbINB4",
        "colab_type": "text"
      },
      "source": [
        "<ol start=\"7\">\n",
        "<li>\n",
        "<p>Use the arrow keys to move the cursor to the line that contains the <strong>h1</strong> element. Press <strong>Enter</strong> to open up a new, blank screen line, and then paste the URL you copied earlier into the line.</p>\n",
        "</li>\n",
        "<li>\n",
        "<p>Paste this HTML markup immediately before the URL:</p>\n",
        "</li>\n",
        "</ol>"
      ]
    },
    {
      "cell_type": "markdown",
      "metadata": {
        "id": "U_ucjHezINGB",
        "colab_type": "text"
      },
      "source": [
        "<pre><code>&lt;img src='\n",
        "</code></pre>"
      ]
    },
    {
      "cell_type": "markdown",
      "metadata": {
        "id": "lG5LgKIUINJ8",
        "colab_type": "text"
      },
      "source": [
        "<ol start=\"9\">\n",
        "<li>\n",
        "<p>Place a closing single quotation mark and a closing angle bracket at the end of the URL:</p>\n",
        "</li>\n",
        "</ol>"
      ]
    },
    {
      "cell_type": "markdown",
      "metadata": {
        "id": "kjHCKtDXINN6",
        "colab_type": "text"
      },
      "source": [
        "<pre><code>'&gt;\n",
        "</code></pre>"
      ]
    },
    {
      "cell_type": "markdown",
      "metadata": {
        "id": "k_AerpaTIeV5",
        "colab_type": "text"
      },
      "source": [
        "<p>The resulting line will look like this:</p>"
      ]
    },
    {
      "cell_type": "markdown",
      "metadata": {
        "id": "R2jLDVuQIecc",
        "colab_type": "text"
      },
      "source": [
        "<pre><code>&lt;img src='https://storage.googleapis.com/qwiklabs-gcp-0005e186fa559a09/my-excellent-blog.png'&gt;\n",
        "</code></pre>"
      ]
    },
    {
      "cell_type": "markdown",
      "metadata": {
        "id": "Tnj53Q_OIeht",
        "colab_type": "text"
      },
      "source": [
        "<p>The effect of these steps is to place the line containing <code>&lt;img src='...'&gt;</code> immediately before the line containing <code>&lt;h1&gt;...&lt;/h1&gt;</code></p>"
      ]
    },
    {
      "cell_type": "markdown",
      "metadata": {
        "id": "ZwctXMXcIem2",
        "colab_type": "text"
      },
      "source": [
        "<aside class=\"special\"><p>Do not copy the URL shown here. Instead, copy the URL shown by the Storage browser in your own Cloud Platform project.</p></aside>"
      ]
    },
    {
      "cell_type": "markdown",
      "metadata": {
        "id": "BZokeo4UIkxt",
        "colab_type": "text"
      },
      "source": [
        "<ol start=\"10\">\n",
        "<li>\n",
        "<p>Press <strong>Ctrl+O</strong>, and then press <strong>Enter</strong> to save your edited file.</p>\n",
        "</li>\n",
        "<li>\n",
        "<p>Press <strong>Ctrl+X</strong> to exit the nano text editor.</p>\n",
        "</li>\n",
        "<li>\n",
        "<p>Restart the web server:</p>\n",
        "</li>\n",
        "</ol>"
      ]
    },
    {
      "cell_type": "markdown",
      "metadata": {
        "id": "7FdHBOc1Ik2Y",
        "colab_type": "text"
      },
      "source": [
        "<pre><code>sudo service apache2 restart\n",
        "</code></pre>"
      ]
    },
    {
      "cell_type": "markdown",
      "metadata": {
        "id": "2eMRJmO6Ik9O",
        "colab_type": "text"
      },
      "source": [
        "<ol start=\"13\">\n",
        "<li>\n",
        "<p>Return to the web browser tab in which you opened your <strong>bloghost</strong> VM instance's external IP address. When you load the page, its content now includes a banner image.</p>\n",
        "</li>\n",
        "</ol>"
      ]
    },
    {
      "cell_type": "markdown",
      "metadata": {
        "id": "BCC6I-z1IlDw",
        "colab_type": "text"
      },
      "source": [
        "<h2 id=\"step9\">Congratulations!</h2>"
      ]
    },
    {
      "cell_type": "markdown",
      "metadata": {
        "id": "JPanWR4-IlL9",
        "colab_type": "text"
      },
      "source": [
        "<p>In this lab, you configured a Cloud SQL instance and connected an application in a Compute Engine instance to it. You also worked with a Cloud Storage bucket.</p>"
      ]
    },
    {
      "cell_type": "markdown",
      "metadata": {
        "id": "-l6WYElhjaGn",
        "colab_type": "text"
      },
      "source": [
        "# GCP Fundamentals: Getting Started with Kubernetes Engine"
      ]
    },
    {
      "cell_type": "markdown",
      "metadata": {
        "id": "FKgvuf82jkvH",
        "colab_type": "text"
      },
      "source": [
        "**Overview**\n",
        "\n",
        "In this lab, you create a Kubernetes Engine cluster containing several containers, each containing a web server. You place a load balancer in front of the cluster and view its contents."
      ]
    },
    {
      "cell_type": "markdown",
      "metadata": {
        "id": "HQ92CuGdjqyK",
        "colab_type": "text"
      },
      "source": [
        "**Objectives**\n",
        "\n",
        "In this lab, you learn how to perform the following tasks:\n",
        "\n",
        "1. Provision a Kubernetes cluster using Kubernetes Engine.\n",
        "\n",
        "2. Deploy and manage Docker containers using kubectl."
      ]
    },
    {
      "cell_type": "markdown",
      "metadata": {
        "id": "YFgGqNrkjq3M",
        "colab_type": "text"
      },
      "source": [
        "<h2 id=\"step4\">Task 1: Confirm that needed APIs are enabled</h2>"
      ]
    },
    {
      "cell_type": "markdown",
      "metadata": {
        "id": "k-jUK2HBjq9X",
        "colab_type": "text"
      },
      "source": [
        "<ol>\n",
        "<li>\n",
        "<p>Make a note of the name of your GCP project. This value is shown in the top bar of the Google Cloud Platform Console. It will be of the form <code>qwiklabs-gcp-</code> followed by hexadecimal numbers.</p>\n",
        "</li>\n",
        "<li>\n",
        "<p>In the GCP Console, on the <strong>Navigation menu</strong> (<img alt=\"Navigation menu\" src=\"https://cdn.qwiklabs.com/LyLHJ5I3gtYdRN1pHDZ2JK2vbd1sM6W2viT0OzyRPTs%3D\">), click <strong>APIs &amp; Services</strong>.</p>\n",
        "</li>\n",
        "<li>\n",
        "<p>Scroll down in the list of enabled APIs, and confirm that both of these APIs are enabled:</p>\n",
        "</ul>\n",
        "</li>\n",
        "</ol>\n",
        "<ul>\n",
        "\n"
      ]
    },
    {
      "cell_type": "markdown",
      "metadata": {
        "id": "hfJ6nFisjrBF",
        "colab_type": "text"
      },
      "source": [
        "<li>Kubernetes Engine API</li>\n",
        "<li>Container Registry API</li>\n",
        "<p>If either API is missing, click <strong>Enable APIs and Services</strong> at the top. Search for the above APIs by name and enable each for your current project. (You noted the name of your GCP project above.)</p>"
      ]
    },
    {
      "cell_type": "markdown",
      "metadata": {
        "id": "Z2_Y3XO9jrEd",
        "colab_type": "text"
      },
      "source": [
        "<h2 id=\"step5\">Task 2: Start a Kubernetes Engine cluster</h2>"
      ]
    },
    {
      "cell_type": "markdown",
      "metadata": {
        "id": "uUlL6zaQjrIn",
        "colab_type": "text"
      },
      "source": [
        "<ol>\n",
        "<li>\n",
        "<p>On the <strong>Google Cloud Platform</strong> menu, click <strong>Activate Cloud Shell</strong> (<img alt=\"Activate Cloud Shell\" src=\"https://cdn.qwiklabs.com/sqKx45X8b2P7ygEtesyerKaHyXQGXOYNqXOqo%2Bl8nDA%3D\">). If a dialog box appears, click <strong>Start Cloud Shell</strong>.</p>\n",
        "</li>\n",
        "<li>\n",
        "<p>For convenience, place the zone that Qwiklabs assigned you to into an environment variable called MY_ZONE. At the Cloud Shell prompt, type this partial command:</p>\n",
        "<pre><code>export MY_ZONE=\n",
        "</code><button class=\"button button--copy js-copy-button-0\"><i class=\"fa fa-clipboard\"></i></button></pre>\n",
        "<p>followed by the zone that Qwiklabs assigned to you. Your complete command will look like this:</p>\n",
        "<pre><code>export MY_ZONE=us-central1-a\n",
        "</code><button class=\"button button--copy js-copy-button-1\" title=\"\" data-original-title=\"Copied\"><i class=\"fa fa-clipboard\"></i></button></pre>\n",
        "</li>\n",
        "<li>\n",
        "<p>Start a Kubernetes cluster managed by Kubernetes Engine. Name the cluster <strong>webfrontend</strong>  and configure it to run 2 nodes:</p>\n",
        "<pre><code>gcloud container clusters create webfrontend --zone $MY_ZONE --num-nodes 2\n",
        "</code><button class=\"button button--copy js-copy-button-2\" title=\"\" data-original-title=\"Copied\"><i class=\"fa fa-clipboard\"></i></button></pre>\n",
        "<p>It takes several minutes to create a cluster as Kubernetes Engine provisions virtual machines for you.</p>\n",
        "</li>\n",
        "<li>\n",
        "<p>After the cluster is created, check your installed version of Kubernetes using the <code>kubectl version</code> command:</p>\n",
        "<pre><code>kubectl version\n",
        "</code><button class=\"button button--copy js-copy-button-3\" title=\"\" data-original-title=\"Copied\"><i class=\"fa fa-clipboard\"></i></button></pre>\n",
        "<p>The <code>gcloud container clusters create</code> command automatically authenticated <code>kubectl</code> for you.</p>\n",
        "</li>\n",
        "<li>\n",
        "<p>View your running nodes in the GCP Console. On the <strong>Navigation menu</strong> (<img alt=\"Navigation menu\" src=\"https://cdn.qwiklabs.com/LyLHJ5I3gtYdRN1pHDZ2JK2vbd1sM6W2viT0OzyRPTs%3D\">), click <strong>Compute Engine &gt; VM Instances</strong>.</p>\n",
        "<p>Your Kubernetes cluster is now ready for use.</p>\n",
        "</li>\n",
        "</ol>"
      ]
    },
    {
      "cell_type": "markdown",
      "metadata": {
        "id": "xV5rJydrjrL0",
        "colab_type": "text"
      },
      "source": [
        "<h2 id=\"step6\">Task 3: Run and deploy a container</h2>"
      ]
    },
    {
      "cell_type": "markdown",
      "metadata": {
        "id": "Hje1DDqdjrPA",
        "colab_type": "text"
      },
      "source": [
        "<ol>\n",
        "<li>\n",
        "<p>From your Cloud Shell prompt, launch a single instance of the nginx container. (Nginx is a popular web server.)</p>\n",
        "<pre><code>kubectl run nginx --image=nginx:1.10.0\n",
        "</code><button class=\"button button--copy js-copy-button-4\" title=\"\" data-original-title=\"Copied\"><i class=\"fa fa-clipboard\"></i></button></pre>\n",
        "<p>In Kubernetes, all containers run in pods. This use of the <code>kubectl run</code> command caused Kubernetes to create a deployment consisting of a single pod containing the nginx container. A Kubernetes deployment keeps a given number of pods up and running even in the event of failures among the nodes on which they run. In this command, you launched the default number of pods, which is 1.</p>\n",
        "</li>\n",
        "<li>\n",
        "<p>View the pod running the nginx container:</p>\n",
        "<pre><code>kubectl get pods\n",
        "</code><button class=\"button button--copy js-copy-button-5\" title=\"\" data-original-title=\"Copied\"><i class=\"fa fa-clipboard\"></i></button></pre>\n",
        "</li>\n",
        "<li>\n",
        "<p>Expose the nginx container to the Internet:</p>\n",
        "<pre><code>kubectl expose deployment nginx --port 80 --type LoadBalancer\n",
        "</code><button class=\"button button--copy js-copy-button-6\" title=\"\" data-original-title=\"Copied\"><i class=\"fa fa-clipboard\"></i></button></pre>\n",
        "<p>Kubernetes created a service and an external load balancer with a public IP address attached to it. The IP address remains the same for the life of the service. Any network traffic to that public IP address is routed to pods behind the service: in this case, the nginx pod.</p>\n",
        "</li>\n",
        "<li>\n",
        "<p>View the new service:</p>\n",
        "<pre><code>kubectl get services\n",
        "</code><button class=\"button button--copy js-copy-button-7\" title=\"\" data-original-title=\"Copied\"><i class=\"fa fa-clipboard\"></i></button></pre>\n",
        "<p>You can use the displayed external IP address to test and contact the nginx container remotely.</p>\n",
        "<p>It may take a few seconds before the <strong>ExternalIP</strong> field is populated for your service. This is normal. Just re-run the <code>kubectl get services</code> command every few seconds until the field is populated.</p>\n",
        "</li>\n",
        "<li>\n",
        "<p>Open a new web browser tab and paste your cluster's external IP address into the address bar. The default home page of the Nginx browser is displayed.</p>\n",
        "</li>\n",
        "<li>\n",
        "<p>Scale up the number of pods running on your service:</p>\n",
        "<pre><code>kubectl scale deployment nginx --replicas 3\n",
        "</code><button class=\"button button--copy js-copy-button-8\" title=\"\" data-original-title=\"Copied\"><i class=\"fa fa-clipboard\"></i></button></pre>\n",
        "<p>Scaling up a deployment is useful when you want to increase available resources for an application that is becoming more popular.</p>\n",
        "</li>\n",
        "<li>\n",
        "<p>Confirm that Kubernetes has updated the number of pods:</p>\n",
        "<pre><code>kubectl get pods\n",
        "</code><button class=\"button button--copy js-copy-button-9\" title=\"\" data-original-title=\"Copied\"><i class=\"fa fa-clipboard\"></i></button></pre>\n",
        "</li>\n",
        "<li>\n",
        "<p>Confirm that your external IP address has not changed:</p>\n",
        "<pre><code>kubectl get services\n",
        "</code><button class=\"button button--copy js-copy-button-10\" title=\"\" data-original-title=\"Copied\"><i class=\"fa fa-clipboard\"></i></button></pre>\n",
        "</li>\n",
        "<li>\n",
        "<p>Return to the web browser tab in which you viewed your cluster's external IP address. Refresh the page to confirm that the nginx web server is still responding.</p>\n",
        "</li>\n",
        "</ol>"
      ]
    },
    {
      "cell_type": "markdown",
      "metadata": {
        "id": "ssMCZoEEjrSO",
        "colab_type": "text"
      },
      "source": [
        "<h2 id=\"step7\">Congratulations!</h2>"
      ]
    },
    {
      "cell_type": "markdown",
      "metadata": {
        "id": "9lP0uV2WjrVP",
        "colab_type": "text"
      },
      "source": [
        "<p>In this lab, you configured a Kubernetes cluster in Kubernetes Engine. You populated the cluster with several pods containing an application, exposed the application, and scaled the application.</p>"
      ]
    },
    {
      "cell_type": "markdown",
      "metadata": {
        "id": "SfLmy25Ijhcu",
        "colab_type": "text"
      },
      "source": [
        "# GCP Fundamentals: Getting Started with App Engine"
      ]
    },
    {
      "cell_type": "markdown",
      "metadata": {
        "id": "-3V6k7n4jrYf",
        "colab_type": "text"
      },
      "source": [
        "<h2 id=\"step2\">Objectives</h2>\n",
        "<p>In this lab, you learn how to perform the following tasks:</p>\n",
        "<ul>\n",
        "<li>\n",
        "<p>Install the Cloud SDK for App Engine</p>\n",
        "</li>\n",
        "<li>\n",
        "<p>Preview an App Engine application running locally in Cloud Shell.</p>\n",
        "</li>\n",
        "<li>\n",
        "<p>Deploy an App Engine application, so that others can reach it.</p>\n",
        "</li>\n",
        "<li>\n",
        "<p>Disable an App Engine application, when you no longer want it to be visible.</p>\n",
        "</li>\n",
        "</ul>"
      ]
    },
    {
      "cell_type": "markdown",
      "metadata": {
        "id": "5-gaIkomjrbp",
        "colab_type": "text"
      },
      "source": [
        "<h3>Activate Google Cloud Shell</h3>\n",
        "<p>Google Cloud Shell is a virtual machine that is loaded with development tools. It offers a persistent 5GB home directory and runs on the Google Cloud.\n",
        "Google Cloud Shell provides command-line access to your GCP resources.</p>\n",
        "\n",
        "<ol>\n",
        "<li>\n",
        "<p>In GCP console, on the top right toolbar, click the Open Cloud Shell button.</p>\n",
        "<p><img alt=\"Cloud Shell icon\" src=\"https://cdn.qwiklabs.com/vdY5e%2Fan9ZGXw5a%2FZMb1agpXhRGozsOadHURcR8thAQ%3D\"></p>\n",
        "</li>\n",
        "<li>\n",
        "<p>Click <strong>Continue</strong>.\n",
        "<img alt=\"cloudshell_continue.png\" src=\"https://cdn.qwiklabs.com/lr3PBRjWIrJ%2BMQnE8kCkOnRQQVgJnWSg4UWk16f0s%2FA%3D\"></p>\n",
        "</li>\n",
        "</ol>\n",
        "\n",
        "<p>It takes a few moments to provision and connect to the environment. When you are connected, you are already authenticated, and the project is set to your <em>PROJECT_ID</em>. For example:</p>\n",
        "\n",
        "<p><img alt=\"Cloud Shell Terminal\" src=\"https://cdn.qwiklabs.com/hmMK0W41Txk%2B20bQyuDP9g60vCdBajIS%2B52iI2f4bYk%3D\"></p>\n",
        "\n",
        "<p><strong>gcloud</strong> is the command-line tool for Google Cloud Platform. It comes pre-installed on Cloud Shell and supports tab-completion.</p>"
      ]
    },
    {
      "cell_type": "markdown",
      "metadata": {
        "id": "gqxQNIqHjrfT",
        "colab_type": "text"
      },
      "source": [
        "<p>You can list the active account name with this command:</p>\n",
        "\n",
        "<pre><code>gcloud auth list\n",
        "</code><button class=\"button button--copy js-copy-button-0\" title=\"\" data-original-title=\"Copied\"><i class=\"fa fa-clipboard\"></i></button></pre>\n",
        "\n",
        "<p>Output:</p>\n",
        "\n",
        "<code class=\"language-output prettyprint prettyprinted\" style=\"\"><span class=\"typ\">Credentialed</span><span class=\"pln\"> accounts</span><span class=\"pun\">:</span><span class=\"pln\">\n",
        " </span><span class=\"pun\">-</span><span class=\"pln\"> </span><span class=\"str\">&lt;myaccount&gt;</span><span class=\"pun\">@&lt;</span><span class=\"pln\">mydomain</span><span class=\"pun\">&gt;.</span><span class=\"pln\">com </span><span class=\"pun\">(</span><span class=\"pln\">active</span><span class=\"pun\">)</span></code>\n",
        "\n",
        " <p>Example output:</p>\n",
        " <pre><code class=\"language-Output prettyprint prettyprinted\" style=\"\"><span class=\"typ\">Credentialed</span><span class=\"pln\"> accounts</span><span class=\"pun\">:</span><span class=\"pln\">\n",
        " </span><span class=\"pun\">-</span><span class=\"pln\"> google1623327_student@qwiklabs</span><span class=\"pun\">.</span><span class=\"pln\">net</span></code><button class=\"button button--copy js-copy-button-2\"><i class=\"fa fa-clipboard\"></i></button></pre>\n",
        " <p>You can list the project ID with this command:</p>\n",
        " <pre><code>gcloud config list project\n",
        "</code><button class=\"button button--copy js-copy-button-3\" title=\"\" data-original-title=\"Copied\"><i class=\"fa fa-clipboard\"></i></button></pre>\n",
        "<p>Output:</p>\n",
        "<pre><code class=\"language-output prettyprint prettyprinted\" style=\"\"><span class=\"pun\">[</span><span class=\"pln\">core</span><span class=\"pun\">]</span><span class=\"pln\">\n",
        "project </span><span class=\"pun\">=</span><span class=\"pln\"> </span><span class=\"str\">&lt;project_ID&gt;</span></code><button class=\"button button--copy js-copy-button-4\"><i class=\"fa fa-clipboard\"></i></button></pre>\n",
        "<p>Example output:</p>\n",
        "<pre><code class=\"language-Output prettyprint prettyprinted\" style=\"\"><span class=\"pun\">[</span><span class=\"pln\">core</span><span class=\"pun\">]</span><span class=\"pln\">\n",
        "project </span><span class=\"pun\">=</span><span class=\"pln\"> qwiklabs</span><span class=\"pun\">-</span><span class=\"pln\">gcp</span><span class=\"pun\">-</span><span class=\"lit\">44776a13dea667a6</span></code><button class=\"button button--copy js-copy-button-5\"><i class=\"fa fa-clipboard\"></i></button></pre>\n",
        "<ql-infobox>\n",
        "  Full documentation of <strong>gcloud</strong> is available on\n",
        "  <a href=\"https://cloud.google.com/sdk/gcloud\" target=\"_blank\">\n",
        "    Google Cloud gcloud Overview\n",
        "  </a>.\n",
        "</ql-infobox>\n",
        "\n"
      ]
    },
    {
      "cell_type": "markdown",
      "metadata": {
        "id": "9g4ziwKMjrjN",
        "colab_type": "text"
      },
      "source": [
        "<h2 id=\"step4\">Task 1: Install the Cloud SDK for App Engine</h2>\n",
        "<ol>\n",
        "<li>\n",
        "<p>Run the following command to install the gcloud component that includes the App Engine extension for Python 3.7:</p>\n",
        "<pre><code>gcloud components install app-engine-python\n",
        "</code><button class=\"button button--copy js-copy-button-6\" title=\"\" data-original-title=\"Copied\"><i class=\"fa fa-clipboard\"></i></button></pre>\n",
        "</li>\n",
        "<li>\n",
        "<p>Initialize your App Engine app with your project and choose its region:</p>\n",
        "<pre><code>gcloud app create --project=$DEVSHELL_PROJECT_ID\n",
        "</code><button class=\"button button--copy js-copy-button-7\" title=\"\" data-original-title=\"Copied\"><i class=\"fa fa-clipboard\"></i></button></pre>\n",
        "<ql-infobox><p>When prompted, select the <a href=\"https://cloud.google.com/appengine/docs/locations\">region </a> where you want your App Engine application located.\n",
        "</p></ql-infobox>\n",
        "</li>\n",
        "<li>\n",
        "<p>Clone the source code repository for a sample application in the <strong>hello_world</strong> directory:</p>\n",
        "<pre><code>git clone https://github.com/GoogleCloudPlatform/python-docs-samples\n",
        "</code><button class=\"button button--copy js-copy-button-8\" title=\"\" data-original-title=\"Copied\"><i class=\"fa fa-clipboard\"></i></button></pre>\n",
        "</li>\n",
        "<li>\n",
        "<p>Navigate to the source directory:</p>\n",
        "<pre><code>cd python-docs-samples/appengine/standard_python37/hello_world\n",
        "</code><button class=\"button button--copy js-copy-button-9\" title=\"\" data-original-title=\"Copied\"><i class=\"fa fa-clipboard\"></i></button></pre>\n",
        "</li>\n",
        "</ol>"
      ]
    },
    {
      "cell_type": "markdown",
      "metadata": {
        "id": "goYVOQU0jrno",
        "colab_type": "text"
      },
      "source": [
        "<h2 id=\"step5\">Task 2: Run Hello World application locally</h2>\n",
        "<p>In this task, you run the Hello World application in a local, virtual\n",
        "environment in Cloud Shell.</p>\n",
        "<p>Ensure that you are at the Cloud Shell command prompt.</p>\n",
        "<ol>\n",
        "<li>\n",
        "<p>Execute the following command to download and update the packages list.</p>\n",
        "<pre><code>sudo apt-get update\n",
        "</code><button class=\"button button--copy js-copy-button-10\" title=\"\" data-original-title=\"Copied\"><i class=\"fa fa-clipboard\"></i></button></pre>\n",
        "</li>\n",
        "<li>\n",
        "<p>Set up a virtual environment in which you will run your application.</p>\n",
        "<p>Python virtual environments are used to isolate package installations from the system.</p>\n",
        "<pre><code>sudo apt-get install virtualenv\n",
        "</code><button class=\"button button--copy js-copy-button-11\" title=\"\" data-original-title=\"Copied\"><i class=\"fa fa-clipboard\"></i></button></pre>\n",
        "<pre><code>virtualenv -p python3 venv\n",
        "</code><button class=\"button button--copy js-copy-button-12\" title=\"\" data-original-title=\"Copied\"><i class=\"fa fa-clipboard\"></i></button></pre>\n",
        "<ql-infobox>If prompted [Y/n], press <code>Y</code> and then <code>Enter</code>.</ql-infobox>\n",
        "</li>\n",
        "<li>\n",
        "<p>Activate the virtual environment.</p>\n",
        "<pre><code>source venv/bin/activate\n",
        "</code><button class=\"button button--copy js-copy-button-13\"><i class=\"fa fa-clipboard\"></i></button></pre>\n",
        "</li>\n",
        "<li>\n",
        "<p>Navigate to your project directory and install dependencies.</p>\n",
        "<pre><code>pip install  -r requirements.txt\n",
        "</code><button class=\"button button--copy js-copy-button-14\" title=\"\" data-original-title=\"Copied\"><i class=\"fa fa-clipboard\"></i></button></pre>\n",
        "</li>\n",
        "<li>\n",
        "<p>Run the application:</p>\n",
        "<pre><code>python main.py\n",
        "</code><button class=\"button button--copy js-copy-button-15\"><i class=\"fa fa-clipboard\"></i></button></pre>\n",
        "</li>\n",
        "<li>\n",
        "<p>In <strong>Cloud Shell</strong>, click <strong>Web preview</strong> (<img alt=\"Web Preview\" src=\"https://cdn.qwiklabs.com/iQOtJaWSL2INEBGSjfvsBcLumZdsaMMytziwE3pXdOY%3D\">) &gt; <strong>Preview on port 8080</strong> to preview the application.</p>\n",
        "<ql-infobox><p>\n",
        "To access the <strong>Web preview</strong> icon, you may need to collapse the <strong>Navigation menu</strong>.\n",
        "</p></ql-infobox>\n",
        "<p>Result:</p>\n",
        "<p><img alt=\"hello_world.png\" src=\"https://cdn.qwiklabs.com/vTRhzjVoW3LX%2BaFG6ox7ZExJHDQvTdMK8fAyRGBQCDQ%3D\"></p>\n",
        "</li>\n",
        "<li>\n",
        "<p>To end the test, return to Cloud Shell and press <strong>Ctrl+C</strong> to abort the deployed service.</p>\n",
        "</li>\n",
        "<li>\n",
        "<p>Using the Cloud Console, verify that the app is not deployed. In the Cloud Console, on the <strong>Navigation menu</strong> (<img alt=\"Navigation menu\" src=\"https://cdn.qwiklabs.com/LyLHJ5I3gtYdRN1pHDZ2JK2vbd1sM6W2viT0OzyRPTs%3D\">), click <strong>App Engine</strong> &gt; <strong>Dashboard</strong>.</p>\n",
        "<ql-infobox><p>Notice that no resources are deployed.</p></ql-infobox>\n",
        "</li>\n",
        "</ol>\n"
      ]
    },
    {
      "cell_type": "markdown",
      "metadata": {
        "id": "J16XIpQgjrq0",
        "colab_type": "text"
      },
      "source": [
        "<h2 id=\"step6\">Task 3: Deploy and run Hello World on App Engine</h2>\n",
        "<p>To deploy your application to the App Engine Standard environment:</p>\n",
        "<ol>\n",
        "<li>\n",
        "<p>Navigate to the source directory:</p>\n",
        "<pre><code>cd python-docs-samples/appengine/standard_python37/hello_world\n",
        "</code><button class=\"button button--copy js-copy-button-16\" title=\"\" data-original-title=\"Copied\"><i class=\"fa fa-clipboard\"></i></button></pre>\n",
        "</li>\n",
        "<li>\n",
        "<p>Deploy your Hello World application.</p>\n",
        "<pre><code>gcloud app deploy\n",
        "</code><button class=\"button button--copy js-copy-button-17\"><i class=\"fa fa-clipboard\"></i></button></pre>\n",
        "<p>This <strong>app deploy</strong> command uses the <em>app.yaml</em> file to identify project\n",
        "configuration.</p>\n",
        "</li>\n",
        "<li>\n",
        "<p>Launch your browser to view the app at http://YOUR_PROJECT_ID.appspot.com</p>\n",
        "<pre><code>gcloud app browse\n",
        "</code><button class=\"button button--copy js-copy-button-18\" title=\"\" data-original-title=\"Copied\"><i class=\"fa fa-clipboard\"></i></button></pre>\n",
        "</li>\n",
        "</ol>\n",
        "<p>Copy and paste the URL into a new browser window.</p>\n",
        "<p>Result:</p>\n",
        "<p><img alt=\"disable-app.png\" src=\"https://cdn.qwiklabs.com/fnmJeOzuz%2BgxMdMg175OIbQRE84kwir5fKVcB1kXihg%3D\"></p>\n",
        "<p>Congratulations!  You created your first application using App Engine.</p>\n",
        "<p>Click <em>Check my progress</em> to verify the objective.\n",
        "<ql-activity-tracking step=\"1\" labinstanceid=\"11591606\">\n",
        "Deploy the Hello World application to App Engine\n",
        "</ql-activity-tracking></p>"
      ]
    },
    {
      "cell_type": "markdown",
      "metadata": {
        "id": "olDewLz7Ztvc",
        "colab_type": "text"
      },
      "source": [
        "<h2 id=\"step7\">Task 4: Disable the application</h2>\n",
        "<p>App Engine offers no option to <strong>Undeploy</strong> an application. After an application is deployed, it remains deployed, although you could instead replace the application with a simple page that says something like \"not in service.\"</p>\n",
        "\n",
        "<p>However, you can disable the application, which causes it to no longer be accessible to users.</p>\n",
        "\n",
        "<ol>\n",
        "<li>\n",
        "<p>In the Cloud Console, on the <strong>Navigation menu</strong> (<img alt=\"Navigation menu\" src=\"https://cdn.qwiklabs.com/LyLHJ5I3gtYdRN1pHDZ2JK2vbd1sM6W2viT0OzyRPTs%3D\">), click  <strong>App Engine</strong> &gt; <strong>Settings</strong>.</p>\n",
        "</li>\n",
        "<li>\n",
        "<p>Click <strong>Disable application</strong>.</p>\n",
        "</li>\n",
        "<li>\n",
        "<p>Read the dialog message. Enter the <strong>App ID</strong> and click <strong>DISABLE</strong>.</p>\n",
        "</li>\n",
        "</ol>\n",
        "<p>If you refresh the browser window you used to view to the application site, you'll get a 404 error.</p>\n",
        "<p><img alt=\"f17c85cf862ddae3.png\" src=\"https://cdn.qwiklabs.com/jVzvehqMDLGdJxcGG6aHjrT1zG6SRd443bZo%2BTO383I%3D\"></p>\n",
        "<h2 id=\"step8\">Congratulations!</h2>\n",
        "<p>You created your first application using App Engine!</p>"
      ]
    },
    {
      "cell_type": "markdown",
      "metadata": {
        "id": "Tp6mMTeRjruD",
        "colab_type": "text"
      },
      "source": [
        "# GCP Fundamentals: Getting Started with Deployment Manager and Stackdriver"
      ]
    },
    {
      "cell_type": "markdown",
      "metadata": {
        "id": "9XUpNPjNjrx7",
        "colab_type": "text"
      },
      "source": [
        "<h2 id=\"step1\">Overview</h2>\n",
        "<p>In this lab, you create a deployment using Deployment Manager and use it to maintain a consistent state of your deployment. You will also view resource usage in a VM instance using Stackdriver.</p>\n",
        "<h2 id=\"step2\">Objectives</h2>\n",
        "<p>In this lab, you will learn how to perform the following tasks:</p>\n",
        "<ul>\n",
        "<li>\n",
        "<p>Create a Deployment Manager deployment.</p>\n",
        "</li>\n",
        "<li>\n",
        "<p>Update a Deployment Manager deployment.</p>\n",
        "</li>\n",
        "<li>\n",
        "<p>View the load on a VM instance using Stackdriver.</p>\n",
        "</li>\n",
        "</ul>"
      ]
    },
    {
      "cell_type": "markdown",
      "metadata": {
        "id": "b2u-iDcjjr1H",
        "colab_type": "text"
      },
      "source": [
        "<h2 id=\"step4\">Task 2: Confirm that needed APIs are enabled</h2>\n",
        "<ol>\n",
        "<li>\n",
        "<p>Make a note of the name of your GCP project. This value is shown in the top bar of the Google Cloud Platform Console. It will be of the form <code>qwiklabs-gcp-</code> followed by hexadecimal numbers.</p>\n",
        "</li>\n",
        "<li>\n",
        "<p>In the GCP Console, on the <strong>Navigation menu</strong> (<img alt=\"Navigation menu\" src=\"https://cdn.qwiklabs.com/LyLHJ5I3gtYdRN1pHDZ2JK2vbd1sM6W2viT0OzyRPTs%3D\">), click <strong>APIs &amp; services</strong>.</p>\n",
        "</li>\n",
        "<li>\n",
        "<p>Scroll down in the list of enabled APIs, and confirm that these APIs are enabled:</p>\n",
        "</li>\n",
        "</ol>\n",
        "<ul>\n",
        "<li>\n",
        "<p>Cloud Deployment Manager v2 API</p>\n",
        "</li>\n",
        "<li>\n",
        "<p>Cloud Runtime Configuration API</p>\n",
        "</li>\n",
        "<li>\n",
        "<p>Stackdriver Monitoring API</p>\n",
        "</li>\n",
        "</ul>\n",
        "<ol start=\"4\">\n",
        "<li>\n",
        "<p>If one or more APIs is missing, click the <strong>Enable APIs and Services</strong> button at top. Search for the above APIs by name and enable each for your current project. (You noted the name of your GCP project above.)</p>\n",
        "</li>\n",
        "</ol>"
      ]
    },
    {
      "cell_type": "markdown",
      "metadata": {
        "id": "6ijAmGLFjr4O",
        "colab_type": "text"
      },
      "source": [
        "<h2 id=\"step5\">Task 3: Create a Deployment Manager deployment</h2>\n",
        "<ol>\n",
        "<li>\n",
        "<p>On the <strong>Google Cloud Platform</strong> menu, click <strong>Activate Cloud Shell</strong> (<img alt=\"Activate Cloud Shell\" src=\"https://cdn.qwiklabs.com/sqKx45X8b2P7ygEtesyerKaHyXQGXOYNqXOqo%2Bl8nDA%3D\">). If a dialog box appears, click <strong>Start Cloud Shell</strong>.</p>\n",
        "</li>\n",
        "<li>\n",
        "<p>For your convenience, place the zone that Qwiklabs assigned you to into an environment variable called MY_ZONE. At the Cloud Shell prompt, type this partial command:</p>\n",
        "</li>\n",
        "</ol>\n",
        "<pre><code>export MY_ZONE=\n",
        "</code><button class=\"button button--copy js-copy-button-0\"><i class=\"fa fa-clipboard\"></i></button></pre>\n",
        "\n",
        "<p>followed by the zone that Qwiklabs assigned you to. Your complete command will look like this:</p>\n",
        "<pre><code>export MY_ZONE=us-central1-f\n",
        "</code><button class=\"button button--copy js-copy-button-1\" title=\"\" data-original-title=\"Copied\"><i class=\"fa fa-clipboard\"></i></button></pre>\n",
        "<ol start=\"3\">\n",
        "<li>\n",
        "<p>At the Cloud Shell prompt, download an editable Deployment Manager template:</p>\n",
        "</li>\n",
        "</ol>\n",
        "<pre><code>gsutil cp gs://cloud-training/gcpfcoreinfra/mydeploy.yaml mydeploy.yaml\n",
        "</code><button class=\"button button--copy js-copy-button-2\" title=\"\" data-original-title=\"Copied\"><i class=\"fa fa-clipboard\"></i></button></pre>\n",
        "<ol start=\"4\">\n",
        "<li>\n",
        "<p>Insert your Google Cloud Platform project ID into the file in place of the string <code>PROJECT_ID</code> using this command:</p>\n",
        "</li>\n",
        "</ol>\n",
        "<pre><code>sed -i -e 's/PROJECT_ID/'$DEVSHELL_PROJECT_ID/ mydeploy.yaml\n",
        "</code><button class=\"button button--copy js-copy-button-3\" title=\"\" data-original-title=\"Copied\"><i class=\"fa fa-clipboard\"></i></button></pre>\n",
        "<ol start=\"5\">\n",
        "<li>\n",
        "<p>Insert your assigned Google Cloud Platform zone into the file in place of the string <code>ZONE</code> using this command:</p>\n",
        "</li>\n",
        "</ol>\n",
        "<pre><code>sed -i -e 's/ZONE/'$MY_ZONE/ mydeploy.yaml\n",
        "</code><button class=\"button button--copy js-copy-button-4\" title=\"\" data-original-title=\"Copied\"><i class=\"fa fa-clipboard\"></i></button></pre>\n",
        "<ol start=\"6\">\n",
        "<li>\n",
        "<p>View the <code>mydeploy.yaml</code> file, with your modifications, with this command:</p>\n",
        "</li>\n",
        "</ol>\n",
        "<pre><code>cat mydeploy.yaml\n",
        "</code><button class=\"button button--copy js-copy-button-5\" title=\"\" data-original-title=\"Copied\"><i class=\"fa fa-clipboard\"></i></button></pre>\n",
        "<p>The file will look something like this:</p>\n",
        "<pre>  resources:\n",
        "  - name: my-vm\n",
        "    type: compute.v1.instance\n",
        "    properties:\n",
        "      zone: us-central1-a\n",
        "      machineType: zones/us-central1-a/machineTypes/n1-standard-1\n",
        "      metadata:\n",
        "        items:\n",
        "        - key: startup-script\n",
        "          value: \"apt-get update\"\n",
        "      disks:\n",
        "      - deviceName: boot\n",
        "        type: PERSISTENT\n",
        "        boot: true\n",
        "        autoDelete: true\n",
        "        initializeParams:\n",
        "          sourceImage: https://www.googleapis.com/compute/v1/projects/debian-cloud/global/images/debian-9-stretch-v20180806\n",
        "      networkInterfaces:\n",
        "      - network: https://www.googleapis.com/compute/v1/projects/qwiklabs-gcp-dcdf854d278b50cd/global/networks/default\n",
        "        accessConfigs:\n",
        "        - name: External NAT\n",
        "          type: ONE_TO_ONE_NAT</pre>\n",
        "\n",
        "          <aside class=\"special\"><p>Do not use the above text literally in your own <b>mydeploy.yaml</b> file. Be sure that the zone that is named on the <b>zone:</b> and <b>machineType:</b> lines in your file matches the zone to which Qwiklabs assigned you. Be sure that the GCP project ID on the <b>network:</b> line in your file matches the project ID to which Qwiklabs assigned you, not the one in this example.</p></aside>\n",
        "          <ol start=\"7\">\n",
        "<li>\n",
        "<p>Build a deployment from the template:</p>\n",
        "</li>\n",
        "</ol>\n",
        "<pre><code>gcloud deployment-manager deployments create my-first-depl --config mydeploy.yaml\n",
        "</code><button class=\"button button--copy js-copy-button-6\" title=\"\" data-original-title=\"Copied\"><i class=\"fa fa-clipboard\"></i></button></pre>\n",
        "<p>When the deployment operation is complete, the <strong>gcloud</strong> command displays a list of the resources named in the template and their current state.</p>\n",
        "<ol start=\"8\">\n",
        "<li>\n",
        "<p>Confirm that the deployment was successful. In the GCP Console, on the <strong>Navigation menu</strong> (<img alt=\"Navigation menu\" src=\"https://cdn.qwiklabs.com/LyLHJ5I3gtYdRN1pHDZ2JK2vbd1sM6W2viT0OzyRPTs%3D\">), click <strong>Compute Engine &gt; VM instances</strong>.\n",
        "You will see that a VM instance called <strong>my-vm</strong> has been created, as specified by the template.</p>\n",
        "</li>\n",
        "<li>\n",
        "<p>Click on the VM instance's name to open its VM instance details screen.</p>\n",
        "</li>\n",
        "<li>\n",
        "<p>Scroll down to the <strong>Custom metadata</strong> section. Confirm that the startup script you specified in your Deployment Manager template has been installed.</p>\n",
        "</li>\n",
        "</ol>\n"
      ]
    },
    {
      "cell_type": "markdown",
      "metadata": {
        "id": "TbFJJcZajr7G",
        "colab_type": "text"
      },
      "source": [
        "<h2 id=\"step6\">Task 4: Update a Deployment Manager deployment</h2>\n",
        "<ol>\n",
        "<li>\n",
        "<p>Return to your Cloud Shell prompt. Launch the <code>nano</code> text editor to edit the <strong>mydeploy.yaml</strong> file:</p>\n",
        "</li>\n",
        "</ol>\n",
        "<pre><code>nano mydeploy.yaml\n",
        "</code><button class=\"button button--copy js-copy-button-7\" title=\"\" data-original-title=\"Copied\"><i class=\"fa fa-clipboard\"></i></button></pre>\n",
        "<ol start=\"2\">\n",
        "<li>\n",
        "<p>Find the line that sets the value of the startup script, <code>value: \"apt-get update\"</code>, and edit it so that it looks like this:</p>\n",
        "</li>\n",
        "</ol>\n",
        "<pre><code>      value: \"apt-get update; apt-get install nginx-light -y\"\n",
        "</code><button class=\"button button--copy js-copy-button-8\" title=\"\" data-original-title=\"Copied\"><i class=\"fa fa-clipboard\"></i></button></pre>\n",
        "<p>Do not disturb the spaces at the beginning of the line. The YAML templating language relies on indented lines as part of its syntax. As you edit the file, be sure that the <code>v</code> in the word <code>value</code> in this new line is immediately below the <code>k</code> in the word <code>key</code> on the line above it.</p>\n",
        "<ol start=\"3\">\n",
        "<li>\n",
        "<p>Press <strong>Ctrl+O</strong> and then press <strong>Enter</strong> to save your edited file.</p>\n",
        "</li>\n",
        "<li>\n",
        "<p>Press <strong>Ctrl+X</strong> to exit the <strong>nano</strong> text editor.</p>\n",
        "</li>\n",
        "<li>\n",
        "<p>Return to your Cloud Shell prompt. Enter this command to cause Deployment Manager to update your deployment to install the new startup script:</p>\n",
        "</li>\n",
        "</ol>\n",
        "<pre><code>gcloud deployment-manager deployments update my-first-depl --config mydeploy.yaml\n",
        "</code><button class=\"button button--copy js-copy-button-9\" title=\"\" data-original-title=\"Copied\"><i class=\"fa fa-clipboard\"></i></button></pre>\n",
        "<p>Wait for the <strong>gcloud</strong> command to display a message confirming that the update operation was completed successfully.</p>\n",
        "<ol start=\"6\">\n",
        "<li>\n",
        "<p>In the GCP console, on the <strong>Navigation menu</strong> (<img alt=\"Navigation menu\" src=\"https://cdn.qwiklabs.com/LyLHJ5I3gtYdRN1pHDZ2JK2vbd1sM6W2viT0OzyRPTs%3D\">), click <strong>Compute Engine &gt; VM instances</strong>.</p>\n",
        "</li>\n",
        "<li>\n",
        "<p>Click on the <strong>my-vm</strong> VM instance's name to open its <strong>VM instance details</strong> pane.</p>\n",
        "</li>\n",
        "<li>\n",
        "<p>Scroll down to the <strong>Custom metadata</strong> section. Confirm that the startup script has been updated to the value you declared in your Deployment Manager template.</p>\n",
        "</li>\n",
        "</ol>\n",
        "<p>Click <em>Check my progress</em> to verify the objective.\n",
        "<ql-activity-tracking step=\"2\" labinstanceid=\"11621625\">\n",
        "Update the Deployment Manager deployment\n",
        "</ql-activity-tracking></p>"
      ]
    },
    {
      "cell_type": "markdown",
      "metadata": {
        "id": "SxhhL3N7jr-Z",
        "colab_type": "text"
      },
      "source": [
        "<h2 id=\"step7\">Task 5: View the Load on a VM using Stackdriver</h2>\n",
        "<ol>\n",
        "<li>\n",
        "<p>In the GCP Console, on the <strong>Navigation menu</strong> (<img alt=\"Navigation menu\" src=\"https://cdn.qwiklabs.com/LyLHJ5I3gtYdRN1pHDZ2JK2vbd1sM6W2viT0OzyRPTs%3D\">), click <strong>Compute Engine</strong> &gt; <strong>VM instances</strong>.</p>\n",
        "</li>\n",
        "<li>\n",
        "<p>To open a command prompt on the <strong>my-vm</strong> instance, click <strong>SSH</strong> in its row in the <strong>VM instances</strong> list.</p>\n",
        "</li>\n",
        "<li>\n",
        "<p>In the ssh session on <strong>my-vm</strong>, execute this command to create a CPU load:</p>\n",
        "</li>\n",
        "</ol>\n",
        "<pre><code>dd if=/dev/urandom | gzip -9 &gt;&gt; /dev/null &amp;\n",
        "</code><button class=\"button button--copy js-copy-button-10\" title=\"\" data-original-title=\"Copied\"><i class=\"fa fa-clipboard\"></i></button></pre>\n",
        "<p>This Linux pipeline forces the CPU to work on compressing a continuous stream of random data.</p>\n",
        "<aside class=\"special\"><p>Leave the window containing your SSH session open while you proceed with the lab.</p></aside>\n",
        "\n",
        "<h3>Create a Stackdriver workspace</h3>\n",
        "<p>You will now setup a Stackdriver workspace that's tied to your Qwiklabs GCP Project. The following steps create a new account that has a free trial of Stackdriver.</p>\n",
        "<ol>\n",
        "<li>\n",
        "<p>In the Google Cloud Platform Console, click on <strong>Navigation menu</strong> &gt; <strong>Monitoring</strong>.</p>\n",
        "</li>\n",
        "<li>\n",
        "<p>Wait for your workspace to be provisioned.</p>\n",
        "</li>\n",
        "</ol>\n",
        "<p>When the Stackdriver dashboard opens, your Stackdriver workspace is ready.</p>\n",
        "<p><img alt=\"Stackdriver_Home_Page.png\" src=\"https://cdn.qwiklabs.com/EZQ9OKOQkk6A3%2BddxVBu39KqHMq2pXSxXlBcxyIm4y4%3D\"></p>\n",
        "<ol start=\"3\">\n",
        "<li>\n",
        "<p>Click the <strong>Add GCP projects</strong> link on the main page. On the next screen, confirm that the GCP project which Qwiklabs created for you is shown under the <strong>Monitored Accounts</strong> tab.  Leave the rest of the options as they are, by default.</p>\n",
        "</li>\n",
        "<li>\n",
        "<p>Under the <strong>Settings</strong> tab menu, click <strong>Agent</strong>.  Using your VM's open SSH window and the code shown on the Agents page, install both the Monitoring and Logging agents on your project's VM.</p>\n",
        "</li>\n",
        "<li>\n",
        "<p>Once both of the agents have been installed on your project's VM, click <strong>Metrics Explorer</strong> under the main Stackdriver menu on the far left.</p>\n",
        "</li>\n",
        "<li>\n",
        "<p>In the <strong>Metric</strong> pane of <strong>Metrics Explorer</strong>, select the resource type <strong>GCE VM instance</strong> and the metric <strong>CPU usage</strong>.</p>\n",
        "</li>\n",
        "</ol>\n",
        "<p>In the resulting graph, notice that CPU usage increased sharply a few minutes ago.</p>\n",
        "<ol start=\"7\">\n",
        "<li>\n",
        "<p>Terminate your workload generator. Return to your ssh session on <strong>my-vm</strong> and enter this command:</p>\n",
        "</li>\n",
        "</ol>\n",
        "<pre><code>kill %1\n",
        "</code><button class=\"button button--copy js-copy-button-11\"><i class=\"fa fa-clipboard\"></i></button></pre>"
      ]
    },
    {
      "cell_type": "markdown",
      "metadata": {
        "id": "WVhwT3LFjsCJ",
        "colab_type": "text"
      },
      "source": [
        "# GCP Fundamentals: Getting Started with BigQuery"
      ]
    },
    {
      "cell_type": "markdown",
      "metadata": {
        "id": "OkwuOHNFjsG1",
        "colab_type": "text"
      },
      "source": [
        "<h2 id=\"step2\">Objectives</h2>\n",
        "<p>In this lab, you learn how to perform the following tasks:</p>\n",
        "<ul>\n",
        "<li>\n",
        "<p>Load data from Cloud Storage into BigQuery.</p>\n",
        "</li>\n",
        "<li>\n",
        "<p>Perform a query on the data in BigQuery.</p>\n",
        "</li>\n",
        "</ul>\n",
        "<h2 id=\"step3\">Task 1: Sign in to the Google Cloud Platform (GCP) Console</h2>\n",
        "<h4>Before you click the Start Lab button</h4>\n",
        "<p>Read these instructions. Labs are timed and you cannot pause them. The timer, which starts when you click Start Lab, shows how long Cloud resources will be made available to you.</p>\n",
        "<p>This Qwiklabs hands-on lab lets you do the lab activities yourself in a real cloud environment, not in a simulation or demo environment. It does so by giving you new, temporary credentials that you use to sign in and access the Google Cloud Platform for the duration of the lab.</p>\n",
        "<h4>What you need</h4>\n",
        "<p>To complete this lab, you need:</p>\n",
        "<ul>\n",
        "<li>Access to a standard internet browser (Chrome browser recommended).</li>\n",
        "<li>Time to complete the lab.</li>\n",
        "</ul>\n",
        "<p><strong><em>Note:</em></strong> If you already have your own personal GCP account or project, do not use it for this lab.</p>\n",
        "\n",
        "<p>Make a note of whether your assigned region is closer to the United States or to Europe.</p>\n",
        "<h2 id=\"step4\">Task 2: Load data from Cloud Storage into BigQuery</h2>\n",
        "<ol>\n",
        "<li>\n",
        "<p>In the Console, on the <strong>Navigation menu</strong> (<img alt=\"Navigation menu\" src=\"https://cdn.qwiklabs.com/LyLHJ5I3gtYdRN1pHDZ2JK2vbd1sM6W2viT0OzyRPTs%3D\">) click <strong>BigQuery</strong> then click <strong>Done</strong>.</p>\n",
        "</li>\n",
        "<li>\n",
        "<p>Create a new dataset within your project by selecting your project in the Resources section, then clicking on <strong>CREATE DATASET</strong> on the right.</p>\n",
        "</li>\n",
        "<li>\n",
        "<p>In the <strong>Create Dataset</strong> dialog, for <strong>Dataset ID</strong>, type <strong>logdata</strong>.</p>\n",
        "</li>\n",
        "<li>\n",
        "<p>For <strong>Data location</strong>, select the continent closest to the region your project was created in. click <strong>Create dataset</strong>.</p>\n",
        "</li>\n",
        "<li>\n",
        "<p>Create a new table in the <strong>logdata</strong> to store the data from the CSV file.</p>\n",
        "</li>\n",
        "<li>\n",
        "<p>Click on <strong>Create Table</strong>. On the <strong>Create Table</strong> page, in the <strong>Source</strong> section:</p>\n",
        "</li>\n",
        "</ol>\n",
        "<ul>\n",
        "<li>For <strong>Create table from</strong>, choose select <strong>Google Cloud Storage</strong>, and in the field, type  <code>gs://cloud-training/gcpfci/access_log.csv</code>.</li>\n",
        "<li>Verify <strong>File format</strong> is set to <strong>CSV</strong>.</li>\n",
        "</ul>\n",
        "<p><strong>Note:</strong> When you have created a table previously, the Create from Previous Job option allows you to quickly use your settings to create similar tables.</p>\n",
        "<ol start=\"7\">\n",
        "<li>\n",
        "<p>In the <strong>Destination</strong> section:</p>\n",
        "</li>\n",
        "</ol>\n",
        "<ul>\n",
        "<li>\n",
        "<p>For <strong>Dataset name</strong>, leave <strong>logdata</strong> selected.</p>\n",
        "</li>\n",
        "<li>\n",
        "<p>For <strong>Table name</strong>, type <strong>accesslog</strong>.</p>\n",
        "</li>\n",
        "<li>\n",
        "<p>For <strong>Table type</strong>, <strong>Native table</strong> should be selected and unchangeable.</p>\n",
        "</li>\n",
        "</ul>\n",
        "<ol start=\"8\">\n",
        "<li>\n",
        "<p>Under <strong>Schema</strong> section, for <strong>Auto detect</strong> check the <strong>Schema and input Parameters</strong>.</p>\n",
        "</li>\n",
        "<li>\n",
        "<p>Accept the remaining default values and click <strong>Create Table</strong>.</p>\n",
        "<p>BigQuery creates a load job to create the table and upload data into the table (this may take a few seconds).</p>\n",
        "</li>\n",
        "<li>\n",
        "<p>(Optional) To track job progress, click <strong>Job History</strong>.</p>\n",
        "</li>\n",
        "<li>\n",
        "<p>When the load job is complete, click <strong>logdata</strong> &gt; <strong>accesslog</strong>.</p>\n",
        "</li>\n",
        "<li>\n",
        "<p>On the <strong>Table Details</strong> page, click <strong>Details</strong> to view the table properties, and then click <strong>Preview</strong> to view the table data.</p>\n",
        "<p>Each row in this table logs a hit on a web server. The first field, <strong>string_field_0</strong>, is the IP address of the client. The fourth through ninth fields log the day, month, year, hour, minute, and second at which the hit occurred. In this activity, you will learn about the daily pattern of load on this web server.</p>\n",
        "</li>\n",
        "</ol>\n",
        "<p>Click <em>Check my progress</em> to verify the objective.\n",
        "<ql-activity-tracking step=\"1\">\n",
        "Load data from Cloud Storage into BigQuery\n",
        "</ql-activity-tracking></p>\n",
        "<h2 id=\"step5\">Task 3: Perform a query on the data using the BigQuery web UI</h2>\n",
        "<p>In this section of the lab, you use the BigQuery web UI to query the <strong>accesslog</strong> table you created previously.</p>\n",
        "<ol>\n",
        "<li>\n",
        "<p>In the <strong>Query editor</strong> window, type (or copy-and-paste) the following query:</p>\n",
        "</li>\n",
        "<li>\n",
        "<p>Because you told BigQuery to automatically discover the schema when you load the data, the hour of the day during which each web hit arrived is in a field called <strong>int_field_6</strong>.</p>\n",
        "<pre><code class=\"language-sql prettyprint prettyprinted\" style=\"\"><span class=\"kwd\">select</span><span class=\"pln\"> int64_field_6 </span><span class=\"kwd\">as</span><span class=\"pln\"> hour</span><span class=\"pun\">,</span><span class=\"pln\"> count</span><span class=\"pun\">(*)</span><span class=\"pln\"> </span><span class=\"kwd\">as</span><span class=\"pln\"> hitcount </span><span class=\"kwd\">from</span><span class=\"pln\"> logdata</span><span class=\"pun\">.</span><span class=\"pln\">accesslog\n",
        "</span><span class=\"kwd\">group</span><span class=\"pln\"> </span><span class=\"kwd\">by</span><span class=\"pln\"> hour\n",
        "order </span><span class=\"kwd\">by</span><span class=\"pln\"> hour</span></code><button class=\"button button--copy js-copy-button-0\"><i class=\"fa fa-clipboard\"></i></button></pre>\n",
        "<p>Notice that the Query Validator tells you that the query syntax is valid (indicated by the green check mark) and indicates how much data the query will process. The amount of data processed allows you to determine the price of the query using the  <a href=\"https://cloud.google.com/products/calculator/\">Cloud Platform Pricing Calculator</a>.</p>\n",
        "</li>\n",
        "<li>\n",
        "<p>Click <strong>Run</strong> and examine the results. At what time of day is the website busiest? When is it least busy?</p>\n",
        "</li>\n",
        "</ol>\n",
        "<h2 id=\"step6\">Task 4: Perform a query on the data using the bq command</h2>\n",
        "<p>In this section of the lab, you use the bq command in Cloud Shell to query the <strong>accesslog</strong> table you created previously.</p>\n",
        "<ol>\n",
        "<li>\n",
        "<p>On the <strong>Google Cloud Platform</strong> menu, click <strong>Activate Cloud Shell</strong> <img alt=\"Activate Cloud Shell\" src=\"https://cdn.qwiklabs.com/sqKx45X8b2P7ygEtesyerKaHyXQGXOYNqXOqo%2Bl8nDA%3D\">.\n",
        "If a dialog box appears, click <strong>Start Cloud Shell</strong>.</p>\n",
        "</li>\n",
        "<li>\n",
        "<p>At the Cloud Shell prompt, enter this command:</p>\n",
        "<pre><code>bq query \"select string_field_10 as request, count(*) as requestcount from logdata.accesslog group by request order by requestcount desc\"\n",
        "</code><button class=\"button button--copy js-copy-button-1\"><i class=\"fa fa-clipboard\"></i></button></pre>\n",
        "<p>The first time you use the <code>bq</code> command, it caches your Google Cloud Platform credentials, and then asks you to choose your default project. Choose the project that Qwiklabs assigned you to. Its name will look like <code>qwiklabs-gcp-</code> followed by a hexadecimal number.</p>\n",
        "<p>The <code>bq</code> command then performs the action requested on its command line. What URL offered by this web server was most popular? Which was least popular?</p>\n",
        "</li>\n",
        "</ol>\n",
        "<h2 id=\"step7\">Congratulations!</h2>\n",
        "<p>In this lab, you loaded data stored in Cloud Storage into a table hosted by Google BigQuery. You then queried the data to discover patterns.</p>\n"
      ]
    }
  ]
}